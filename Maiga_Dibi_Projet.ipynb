{
  "cells": [
    {
      "cell_type": "markdown",
      "metadata": {
        "id": "JVSu8Uap9PAZ"
      },
      "source": [
        "#Projet final pour le cours M1MAS \"Apprentissage pour l'image\", année 2023-2024\n",
        "\n",
        "## Consignes\n",
        "\n",
        "### Date et modalité\n",
        "Ce projet est à rendre au plus tard le **12/05/2024**\n",
        "Les projets sont à envoyer par email à\n",
        "\n",
        "  ```\n",
        "  emile.pierret@univ-orleans.fr\n",
        "  ```\n",
        "\n",
        "sous forme d’un python notebook (*.ipynb) contenant la sortie des cellules. Le fichier doit être nommé\n",
        "  ```\n",
        "  NOM_Prenom_Projet.ipynb\n",
        "  ```\n",
        "Si le fichier dépasse la taille de 5 Mo merci de l'envoyer par un lien cloud (comme https://filesender.renater.fr/, dropbox, filetransfer...).\n",
        "\n",
        "\n",
        "On conseille de travailler avec Google Colab.\n",
        "Depuis Colab vous devez faire\n",
        "```\n",
        "  Fichier -> Télécharger le fichier .ipynb\n",
        "```\n",
        "pour récupérer le fichier à envoyer.\n",
        "\n",
        "## Plagiat\n",
        "\n",
        "\n",
        "Ce qui suit est un plagiat de https://www.larousse.fr/dictionnaires/francais/plagiat/61301 :\n",
        "\n",
        "\"Plagiat, nom masculin, (de plagiaire) :\n",
        "\n",
        "— Acte de quelqu’un qui, dans le domaine artistique ou littéraire, donne pour sien ce qu’il a pris à l’œuvre\n",
        "d’un autre.\n",
        "\n",
        "— Ce qui est emprunté, copié, démarqué.\"\n",
        "\n",
        "Tout plagiat de texte est strictement interdit.\n",
        "Le plagiat de morceaux de code est autorisé à condition que chaque source soit citée, en précisant le lien internet par exemple.\n",
        "Cette règle ne s'applique pas au code des TPs faits en cours.\n",
        "\n",
        "\n",
        "## Travail attendu\n",
        "\n",
        "Il est attendu que:\n",
        "* Toute cellule de code soit précédée par une description de ce qu'elle contient.\n",
        "* Chaque résultat obtenu soit commenté.\n"
      ]
    },
    {
      "cell_type": "markdown",
      "metadata": {
        "id": "59OUyiad9dza"
      },
      "source": [
        "#Classification de la base FashionMNIST par réseau de neurones"
      ]
    },
    {
      "cell_type": "markdown",
      "metadata": {
        "id": "fvIKvXBHBs7-"
      },
      "source": [
        "###Question 1 :\n",
        "En utilisant la classe\n",
        "```\n",
        "CLASS torchvision.datasets.FashionMNIST\n",
        "```\n",
        "documentée ici :\n",
        "\n",
        "https://pytorch.org/vision/stable/generated/torchvision.datasets.FashionMNIST.html#torchvision.datasets.FashionMNIST\n",
        "\n",
        "définir les objets `trainset`, `trainloader`, `testset`, `testloader` et `classes` en définissant une fonction transform qui ramène les niveaux de gris dans l'intervalle $[-1,1]$.\n",
        "\n",
        "Afficher quelques images avec leur classe correspondante."
      ]
    },
    {
      "cell_type": "markdown",
      "source": [
        "Cette cellule de code est destinée à préparer les données pour le training et le testing en utilisant le dataset FashionMNIST, qui est un ensemble d'images de vêtements classifiées en différentes catégories.\n",
        "On commence par importer les modules necessaires pour pour gérer les données et effectuer les transformations nécessaires avant l'entraînement. Ensuite on definit les parametres de chargements des données avec le Batch_size, après cela on charge les datasets FashionMNIST pour l'entraînement (trainset) et le test (testset) avec les transformations spécifiées.\n",
        " On passe ensuite à la configuration des DataLoaders , ce qui va nous permettre de parcourir les datasets en mini-batches de manière efficace, en mélangeant les données d'entraînement pour améliorer l'apprentissage général. Et pour finir on definit les classes du dataset.\n"
      ],
      "metadata": {
        "id": "wZCIqPjdIbuT"
      }
    },
    {
      "cell_type": "code",
      "source": [
        "import torch  # Importation de la bibliothèque PyTorch, utilisée pour le calcul numérique rapide via des tenseurs et pour la création de réseaux de neurones profonds.\n",
        "import torchvision  # Importation de la bibliothèque TorchVision, qui fournit des utilitaires pour charger et prétraiter des ensembles de données d'images, ainsi que des modèles préentraînés.\n",
        "import torchvision.transforms as transforms  # Importation du sous-module 'transforms' de TorchVision, qui permet de définir des transformations d'images telles que la normalisation, le redimensionnement ou la conversion en tenseurs.\n",
        "\n",
        "\n",
        "# Définition de la transformation\n",
        "transform = transforms.Compose([ # combine deux transformations importantes:\n",
        "    transforms.ToTensor(), # convertit les images en tenseurs PyTorch.\n",
        "    transforms.Normalize((0.5,), (0.5,))  # renormalise les images en les passant de [0,1] dans [-1,1] pour les images en noir et blanc\n",
        "])\n",
        "# transform aide ainsi à réduire le surapprentissage et à améliorer la robustesse du modèle\n",
        "# Un tenseur est une structure de données similaire à un tableau multidimensionnel\n",
        "#La fonction transform rend les photos prêtes pour être utilisées par un modèle d'intelligence artificielle.\n",
        "\n",
        "#Taille du batch\n",
        "batch_size = 32 # chaque lot de données contiendra 32 images.\n",
        "\n",
        "\n",
        "# Chargement des datasets\n",
        "trainset = torchvision.datasets.FashionMNIST(root='./data', train=True, download=True, transform=transform)\n",
        "testset = torchvision.datasets.FashionMNIST(root='./data', train=False, download=True, transform=transform)\n",
        "\n",
        "# Définition des DataLoaders\n",
        "# Les DataLoaders fournissent un moyen efficace de diviser les données en lots et de les mélanger pour l'entraînement.\n",
        "trainloader = torch.utils.data.DataLoader(trainset,  batch_size=batch_size,\n",
        "                                          shuffle=True, num_workers=2)\n",
        "testloader = torch.utils.data.DataLoader(testset, batch_size=batch_size,\n",
        "                                          shuffle=False, num_workers=2)\n",
        "#Le paramètre num_workers permet de créer plusieurs processus en parallèle pour\n",
        "#charger les données plus rapidement. Chaque processus s'occupe de charger\n",
        "#un ou plusieurs lots de données (batchs) pendant que le modèle est en train\n",
        "#d'entraîner un batch précédent.\n",
        "# Classes\n",
        "# Définition des noms des classes présentes dans le dataset FashionMNIST.\n",
        "classes = ('T-shirt/top', 'Trouser', 'Pullover', 'Dress', 'Coat',\n",
        "           'Sandal', 'Shirt', 'Sneaker', 'Bag', 'Ankle boot')\n",
        "\n"
      ],
      "metadata": {
        "id": "4QpMaVWhlKsW",
        "colab": {
          "base_uri": "https://localhost:8080/"
        },
        "outputId": "c167f095-c087-4a42-c8c5-c8a0bd80dfe5"
      },
      "execution_count": null,
      "outputs": [
        {
          "output_type": "stream",
          "name": "stdout",
          "text": [
            "Downloading http://fashion-mnist.s3-website.eu-central-1.amazonaws.com/train-images-idx3-ubyte.gz\n",
            "Downloading http://fashion-mnist.s3-website.eu-central-1.amazonaws.com/train-images-idx3-ubyte.gz to ./data/FashionMNIST/raw/train-images-idx3-ubyte.gz\n"
          ]
        },
        {
          "output_type": "stream",
          "name": "stderr",
          "text": [
            "100%|██████████| 26421880/26421880 [00:02<00:00, 11694269.20it/s]\n"
          ]
        },
        {
          "output_type": "stream",
          "name": "stdout",
          "text": [
            "Extracting ./data/FashionMNIST/raw/train-images-idx3-ubyte.gz to ./data/FashionMNIST/raw\n",
            "\n",
            "Downloading http://fashion-mnist.s3-website.eu-central-1.amazonaws.com/train-labels-idx1-ubyte.gz\n",
            "Downloading http://fashion-mnist.s3-website.eu-central-1.amazonaws.com/train-labels-idx1-ubyte.gz to ./data/FashionMNIST/raw/train-labels-idx1-ubyte.gz\n"
          ]
        },
        {
          "output_type": "stream",
          "name": "stderr",
          "text": [
            "100%|██████████| 29515/29515 [00:00<00:00, 208975.31it/s]\n"
          ]
        },
        {
          "output_type": "stream",
          "name": "stdout",
          "text": [
            "Extracting ./data/FashionMNIST/raw/train-labels-idx1-ubyte.gz to ./data/FashionMNIST/raw\n",
            "\n",
            "Downloading http://fashion-mnist.s3-website.eu-central-1.amazonaws.com/t10k-images-idx3-ubyte.gz\n",
            "Downloading http://fashion-mnist.s3-website.eu-central-1.amazonaws.com/t10k-images-idx3-ubyte.gz to ./data/FashionMNIST/raw/t10k-images-idx3-ubyte.gz\n"
          ]
        },
        {
          "output_type": "stream",
          "name": "stderr",
          "text": [
            "100%|██████████| 4422102/4422102 [00:01<00:00, 3685087.05it/s]\n"
          ]
        },
        {
          "output_type": "stream",
          "name": "stdout",
          "text": [
            "Extracting ./data/FashionMNIST/raw/t10k-images-idx3-ubyte.gz to ./data/FashionMNIST/raw\n",
            "\n",
            "Downloading http://fashion-mnist.s3-website.eu-central-1.amazonaws.com/t10k-labels-idx1-ubyte.gz\n",
            "Downloading http://fashion-mnist.s3-website.eu-central-1.amazonaws.com/t10k-labels-idx1-ubyte.gz to ./data/FashionMNIST/raw/t10k-labels-idx1-ubyte.gz\n"
          ]
        },
        {
          "output_type": "stream",
          "name": "stderr",
          "text": [
            "100%|██████████| 5148/5148 [00:00<00:00, 16432478.68it/s]\n"
          ]
        },
        {
          "output_type": "stream",
          "name": "stdout",
          "text": [
            "Extracting ./data/FashionMNIST/raw/t10k-labels-idx1-ubyte.gz to ./data/FashionMNIST/raw\n",
            "\n"
          ]
        }
      ]
    },
    {
      "cell_type": "markdown",
      "source": [
        "Amélioration de la convergence : Les réseaux apprennent plus rapidement lorsque les données d'entrée sont normalisées.\n",
        "Stabilité numérique : Les valeurs de grande amplitude peuvent provoquer des instabilités lors de l'entraînement.\n",
        "Cohérence des données : Cela permet de garantir que les entrées sont traitées de manière cohérente, surtout lorsque différentes images peuvent avoir des gammes de valeurs différentes."
      ],
      "metadata": {
        "id": "G808iDf8ppJO"
      }
    },
    {
      "cell_type": "markdown",
      "source": [
        "Torchvision fournit des outils utiles pour manipuler les images et les tenseurs d'images. Par exemple, il y a des fonctions pour afficher des images directement dans un notebook, ou pour convertir des tenseurs en images."
      ],
      "metadata": {
        "id": "Z6dMI8GbvD1E"
      }
    },
    {
      "cell_type": "code",
      "source": [
        "len(trainloader)"
      ],
      "metadata": {
        "colab": {
          "base_uri": "https://localhost:8080/"
        },
        "id": "giedDkqAlrBG",
        "outputId": "c6beba1c-ca67-456e-925c-48a876425dbd"
      },
      "execution_count": null,
      "outputs": [
        {
          "output_type": "execute_result",
          "data": {
            "text/plain": [
              "1875"
            ]
          },
          "metadata": {},
          "execution_count": 2
        }
      ]
    },
    {
      "cell_type": "markdown",
      "source": [
        "Chaque batch contient 1875\n",
        " exemples"
      ],
      "metadata": {
        "id": "fsnFqQT8DZWN"
      }
    },
    {
      "cell_type": "markdown",
      "source": [
        "Affichons quelques images avec leur classes correspondantes"
      ],
      "metadata": {
        "id": "hyBJb9gwersa"
      }
    },
    {
      "cell_type": "markdown",
      "source": [
        "Cette cellule de code(ci-dessous) contient un script qui est conçu pour visualiser un échantillon d'images du dataset FashionMNIST en utilisant la bibliothèque matplotlib et certaines fonctionnalités de PyTorch.\n",
        "On commence toujours par  importer les bibliothèques necessaires pour la visualisation des images et la manipulation des données des images.\n",
        "Ensuite on definit une fonction qui denormalise une image, la convertit en un tableau numpy, et puis l'affiche.\n",
        " Par la suite on chargera un echantillon d'images pour ensuite les afficher avec leurs etiquettes correspondantes.\n",
        "\n",
        " Je me suis servi du code vu en TP"
      ],
      "metadata": {
        "id": "cbbmMVAnEZCK"
      }
    },
    {
      "cell_type": "code",
      "source": [
        "\n",
        "import matplotlib.pyplot as plt\n",
        "import numpy as np\n",
        "# Fonction pour afficher les images\n",
        "def imshow(img):\n",
        "     img = img / 2 + 0.5     # unnormalize. Annulation de la normalisation pour revenir à l'échelle d'origine [0, 1]\n",
        "     npimg = img.numpy()  # Conversion du tenseur en un tableau numpy pour le traitement d'image\n",
        "     plt.imshow(np.transpose(npimg, (1, 2, 0)), cmap='gray') # Transposition des dimensions et affichage de l'image\n",
        "     plt.show() # Affiche l'image à l'écran\n",
        "\n",
        "# get some random training images\n",
        "dataiter = iter(trainloader)\n",
        "images, labels = next(dataiter)\n",
        "\n",
        "# show images\n",
        "imshow(torchvision.utils.make_grid(images))\n",
        "# print labels\n",
        "classes = ('T-shirt/top', 'Trouser', 'Pullover', 'Dress', 'Coat',\n",
        "           'Sandal', 'Shirt', 'Sneaker', 'Bag', 'Ankle boot')\n",
        "print(' '.join(f'{classes[labels[j]]:5s}' for j in range(batch_size)))\n",
        "\n"
      ],
      "metadata": {
        "colab": {
          "base_uri": "https://localhost:8080/",
          "height": 352
        },
        "id": "JFsPYlLUbwGn",
        "outputId": "0380c408-ed6b-407e-a0bf-72a82061e594"
      },
      "execution_count": null,
      "outputs": [
        {
          "output_type": "display_data",
          "data": {
            "text/plain": [
              "<Figure size 640x480 with 1 Axes>"
            ],
            "image/png": "[encoded data removed]"
          },
          "metadata": {}
        },
        {
          "output_type": "stream",
          "name": "stdout",
          "text": [
            "Ankle boot Sneaker Sneaker Shirt Bag   Bag   Bag   Bag   Trouser Sneaker Sandal Dress Coat  Coat  Trouser Coat  Dress Coat  Ankle boot Coat  Ankle boot Coat  Trouser Sandal Bag   Dress Shirt Shirt Sandal Sandal Shirt Sandal\n"
          ]
        }
      ]
    },
    {
      "cell_type": "markdown",
      "source": [
        "plt.imshow() s'attendent à des valeurs dans une plage entre\n",
        "[\n",
        "0\n",
        ",\n",
        "1\n",
        "]\n",
        "[0,1] ou\n",
        "[\n",
        "0\n",
        ",\n",
        "255\n",
        "]\n",
        "[0,255] pour chaque canal de couleur."
      ],
      "metadata": {
        "id": "8-5GovIvpXlL"
      }
    },
    {
      "cell_type": "markdown",
      "source": [],
      "metadata": {
        "id": "TQxO3BBDpjej"
      }
    },
    {
      "cell_type": "markdown",
      "source": [
        "Chaque image est affichée en niveaux de gris, ce qui est cohérent avec la transformation appliquée lors du chargement des données.\n",
        "Les étiquettes affichées sous la grille d'images correspondent correctement à chaque image. Cela est crucial pour vérifier l'intégrité des données manipulées lors du développement de modèles de classification."
      ],
      "metadata": {
        "id": "EZ3vJ3qVJcOm"
      }
    },
    {
      "cell_type": "markdown",
      "metadata": {
        "id": "88hk_RFQDC9f"
      },
      "source": [
        "###Question 2 :\n",
        "\n",
        "Décrire quantitativement la base de données en répondant aux questions suivantes :\n",
        "\n",
        "* Quelle est la taille de chaque image ?\n",
        "* Combien y a-t-il d'images au total pour `trainset` et `testset` ?\n",
        "* Combien d'images par classe ?\n",
        "* Combien de classes ?\n",
        "\n",
        "On pourra proposer un script pour répondre aux questions.\n"
      ]
    },
    {
      "cell_type": "markdown",
      "source": [
        "La cellule de code ci-dessous contient un script qui réalise plusieurs tâches importantes pour examiner et analyser les données contenues dans le trainset et le testset du dataset FashionMNIST. Il inclut l'extraction des dimensions des images, le comptage du nombre total d'images, et une analyse détaillée du nombre d'images par classe dans le trainset.\n",
        "Ainsi que le nombre de classes."
      ],
      "metadata": {
        "id": "i_Q4TlicLZsy"
      }
    },
    {
      "cell_type": "code",
      "source": [
        "Taille=images.shape\n",
        "print(\"Taille de chaque image :\", Taille)\n",
        "# Nombre total d'images dans le trainset et le testset\n",
        "nbre_trainset = len(trainset)\n",
        "nbre_testset = len(testset)\n",
        "\n",
        "# Compter le nombre d'images par classe dans le trainset\n",
        "from collections import Counter # utilisée pour compter les éléments de manière efficace\n",
        "\n",
        "etiquette= [labels for _, labels in trainset] # extraction des étiquettes de toutes les images dans le dataset d'entrainement\n",
        "# etiquette est une liste qui stocke les étiquettes associées à chaque image dans le dataset d'entraînement.\n",
        "#Chaque image dans le dataset FashionMNIST est étiquetée avec un entier qui représente la catégorie de vêtement\n",
        "#à laquelle l'image appartient (par exemple, T-shirt/top, Trouser, Pullover, etc.)\n",
        "# J'ai utilisé \"for_\" pour ignorer les images elles-mêmes, puisque seul l'etiquette associée à chaque image est nécessaire pour cette opération.\n",
        "\n",
        "nbre_etiquette = Counter(etiquette) # calcule le nombre de fois que chaque étiquette est repetée dans \"etiquette\"\n",
        "#nbre_etiquette nous renvoie les clés ( ici étiquettes ou classes des images), avec le nombre d'images correspondant à chaque clé.\n",
        "nbre_classes=len(nbre_etiquette) # nombre de clés differentes dans \"nbre_etiquette\"\n",
        "\n",
        "\n",
        "print(nbre_trainset)\n",
        "print(nbre_testset)\n",
        "print( nbre_etiquette)\n",
        "print( nbre_classes)"
      ],
      "metadata": {
        "id": "LWvg304qlNFn",
        "colab": {
          "base_uri": "https://localhost:8080/"
        },
        "outputId": "b5b512c8-bbe5-4de4-b74c-7cd480db0259"
      },
      "execution_count": null,
      "outputs": [
        {
          "output_type": "stream",
          "name": "stdout",
          "text": [
            "Taille de chaque image : torch.Size([32, 1, 28, 28])\n",
            "60000\n",
            "10000\n",
            "Counter({9: 6000, 0: 6000, 3: 6000, 2: 6000, 7: 6000, 5: 6000, 1: 6000, 6: 6000, 4: 6000, 8: 6000})\n",
            "10\n"
          ]
        }
      ]
    },
    {
      "cell_type": "markdown",
      "source": [
        " Dans [32, 1, 28, 28] ,\n",
        " 32 designe le nombre d'images dans le batch et 1 le nombre de canaux.\n",
        "Chaque image est de taille 28x28.\n",
        "\n",
        "Au total on a 60000 images pour trainset et 10000 images pour testset.\n",
        "\n",
        "On a 6000 images par classe. Cela indique que le dataset est parfaitement équilibré,ainsi aucune classe n'est sur-representée par rapport à une autre.\n",
        "\n",
        "On a 10 classes\n",
        "\n",
        " Ces resultats sont corrects vu qu'ils confirment ce qui est ecrit dans la description des données de FashionMNIST."
      ],
      "metadata": {
        "id": "B7I_yA-ZKsPb"
      }
    },
    {
      "cell_type": "markdown",
      "metadata": {
        "id": "E6wiUT0FEFRt"
      },
      "source": [
        "## Réseau de neurones convolutionnel (CNN)\n",
        "\n",
        "On souhaite définir un réseau de neurones convolutionnel (CNN) qui s'applique aux images de `FashionMNIST`et effectue la suite d'opérations suivante :\n",
        "\n",
        "**Partie CNN :**\n",
        " * Une convolution 2D de noyau de taille 5x5 avec 12 canaux en sortie, suivie d'une activation  ReLU.\n",
        " * Un max-pooling 2D de taille 2x2\n",
        " * Une convolution 2D de noyau de taille 5x5 avec 20 canaux en sortie, suivie d'une activation  ReLU.\n",
        " * Un max-pooling 2D de taille 2x2\n",
        "\n",
        "**Partie linéaire :**\n",
        " * Une couche linéaire avec dimension de sortie 100, suivie d'une activation  ReLU.\n",
        " * Une couche linéaire avec dimension de sortie 60, suivie d'une activation  ReLU.\n",
        " * Une couche linéaire finale permettant la classification.\n",
        "\n"
      ]
    },
    {
      "cell_type": "markdown",
      "source": [
        "Un Réseau de Neurones Convolutif (CNN) est une architecture de réseau de neurones spécialement conçue pour traiter des données structurées en grille, comme les images. Contrairement aux réseaux entièrement connectés (MLP), où chaque neurone est connecté à tous les autres, un CNN exploite la structure locale des données (comme les motifs spatiaux dans une image) en appliquant des filtres ou \"convolutions\" qui se concentrent sur des parties spécifiques de l'image.\n",
        "\n",
        "Structure d'un CNN\n",
        "Les CNN sont généralement composés de trois types de couches principales :\n",
        "\n",
        "Couches Convolutives (Convolutional Layers) :\n",
        "\n",
        "C'est la pierre angulaire du CNN. Un filtre (ou noyau) de taille plus petite que l'image est glissé sur l'image pour détecter des motifs locaux (comme les bords, les textures, ou les formes). Chaque convolution produit une \"carte de caractéristiques\" (feature map) qui capture les motifs détectés dans l'image.\n",
        "Chaque filtre est entraîné pour reconnaître un certain motif. Au fur et à mesure que le réseau progresse dans les couches, ces motifs deviennent de plus en plus complexes (d'abord des bords, puis des formes, et enfin des objets entiers).\n",
        "Couches de Pooling (Pooling Layers) :\n",
        "\n",
        "Ces couches réduisent la taille des cartes de caractéristiques, diminuant ainsi le nombre de paramètres et la complexité du réseau. La méthode la plus courante est le max pooling, où la valeur maximale d'une région est prise pour résumer cette région.\n",
        "Cela permet aussi d'ajouter de la robustesse aux petites transformations (comme les rotations ou les translations) de l'image.\n",
        "Couches Entièrement Connectées (Fully Connected Layers) :\n",
        "\n",
        "Après plusieurs couches de convolutions et de pooling, les cartes de caractéristiques sont aplaties en un vecteur, qui est ensuite passé à une ou plusieurs couches entièrement connectées. Ces couches sont généralement responsables de la classification finale ou des prédictions.\n",
        "Avantages des CNN\n",
        "Partage des poids : Contrairement à un réseau entièrement connecté, où chaque neurone a des poids uniques pour chaque connexion, dans un CNN, un seul filtre est utilisé pour traiter toute l'image, ce qui réduit drastiquement le nombre de paramètres.\n",
        "Invariance aux translations : Les CNN sont capables de détecter des objets, peu importe où ils apparaissent dans l'image, grâce à leur structure de convolution et de pooling.\n",
        "Extraction automatique de caractéristiques : Les couches convolutives apprennent automatiquement quelles caractéristiques sont importantes à partir des données, sans qu'il soit nécessaire de spécifier manuellement des caractéristiques (comme dans les approches traditionnelles de vision par ordinateur)."
      ],
      "metadata": {
        "id": "T3hSA4KBqIQa"
      }
    },
    {
      "cell_type": "markdown",
      "metadata": {
        "id": "O1P0bWYOGj2d"
      },
      "source": [
        "###Question 3 :\n",
        "\n",
        "Etant donné un batch `x` (dont on précisera les dimensions) en entrée du CNN, expliciter les dimensions des tenseurs en entrée et en sortie de chacune des couches successives du réseau. On prendra soin de préciser les opérations nécessaires pour passer de la partie CNN à la partie linéaire."
      ]
    },
    {
      "cell_type": "markdown",
      "source": [
        "Entrée du CNN:\n",
        "Soit x un batch, voici ses dimensions [32,1,28,28] avec 32 images\n",
        "Prémiere couche de convolution de noyau de taille 5x5 avec 12 canaux en sortie, suivie d'une activation ReLU:\n",
        "Dimensions_tenseurs en entrée: [32,1,28,28]\n",
        "Dimensions_tenseurs en sortie: [32,12,24,24]\n",
        "\n",
        "Première couche de pooling de taille 2x2 :\n",
        "Dimensions_tenseurs en entrée: [32,12,24,24]\n",
        "Dimensions_tenseurs en sortie: [32,12,12,12]\n",
        "\n",
        "Deuxieme couche de convolution de noyau de taille 5x5 avec 20 canaux en sortie, suivie d'une activation ReLU:\n",
        "Dimensions_tenseurs en entrée: [32,12,12,12]\n",
        "Dimensions_tenseurs en sortie: [32,20,8,8]\n",
        "\n",
        "Deuxieme couche de pooling de taille 2x2 :\n",
        "Dimensions_tenseurs en entrée: [32,20,8,8]\n",
        "Dimensions_tenseurs en sortie: [32,20,4,4]\n",
        "\n",
        "\n",
        "Operations necessaires:\n",
        "\n",
        "A ce moment là nous avons des  matrices à trois dimensions. Avec les couches linéaires, ces matrices doivent être converties en vecteurs de dimensions 1. Cette opération est souvent appelée \"flattening\"(aplatissement).\n",
        "Chaque couche entièrement connectée est suivie par une activation ReLU, sauf la dernière qui génère les valeurs non normalisées.\n",
        "\n",
        "Flattening :\n",
        "Avant Flattening:[32,20,4,4]\n",
        "Après Flattening: [32,320]\n",
        "Aplatissement en un vecteur de 320 éléments (20x4x4).\n",
        "\n",
        "\n",
        "Prémiere couche linéaire avec dimension de sortie 100, suivie d'une activation ReLU.\n",
        "Dimensions_tenseurs en entrée: [32,320]\n",
        "Dimensions_tenseurs en sortie: [32,100]\n",
        "\n",
        "Deuxieme couche linéaire avec dimension de sortie 60, suivie d'une activation ReLU.\n",
        "Dimensions_tenseurs en entrée: [32,100]\n",
        "Dimensions_tenseurs en sortie: [32,60]\n",
        "\n",
        "Couche lineaire finale permettant la classification:\n",
        "Dimensions_tenseurs en entrée: [32,60]\n",
        "Dimensions_tenseurs en sortie: [32,10]"
      ],
      "metadata": {
        "id": "WodrXlEGlYwb"
      }
    },
    {
      "cell_type": "markdown",
      "metadata": {
        "id": "wt1jCa_YHi4K"
      },
      "source": [
        "###Question 4 :\n",
        "Définir une class `CNNet` qui implémente le modèle décrit ci-dessus.\n",
        "\n",
        "Définir un réseau cnnet = CNNet() et tester sa fonction `forward` sur un batch du `trainset`.\n",
        "\n",
        "Quel est le nombre de paramètres du réseau ?"
      ]
    },
    {
      "cell_type": "markdown",
      "source": [
        " La cellule de code ci-dessous contient un script qui définit la classe de réseau de neurones convolutif (CNNet) utilisant le modèle  décrit ci-dessus, conçue pour traiter les images FashionMNIST à un seul canal et les classifier en 10 catégories différentes.\n",
        " Ainsi on déclare les Couches du Réseau, on definit la methode forward qui définit comment les données passent à travers le réseau et on finit par une instantiation de la classe CNNet."
      ],
      "metadata": {
        "id": "xq7hNFnINKZD"
      }
    },
    {
      "cell_type": "code",
      "source": [
        "import torch\n",
        "import torch.nn as nn #Il contient des classes pour construire des couches, des fonctions d'activation, des fonctions de perte\n",
        "import torch.nn.functional as F\n",
        "\n",
        "\n",
        "class CNNet(nn.Module):\n",
        "\n",
        "    def __init__(self):\n",
        "        super(CNNet, self).__init__()\n",
        "        # 1 canal d'image d'entrée, 12 canaux de sortie, convolution carrée 5x5\n",
        "        # noyau\n",
        "        self.conv1 = nn.Conv2d(1, 12, 5) # 1 canal d'entrée, 12 entrée de sortie, noyaux de taille(5,5); on peut switcher le 5 en (5,5)\n",
        "        self.conv2 = nn.Conv2d(12, 20, 5) # le meme 12 qu'on a la-haut,\n",
        "        # une opération affine: y = Wx + b\n",
        "        self.fc1 = nn.Linear(20 * 4 * 4, 100) # Dimension lineaire apres le flattenning\n",
        "        self.fc2 = nn.Linear(100, 60)\n",
        "        self.fc3 = nn.Linear(60, 10) # 10 classes de sortie pour FashionMNIST\n",
        "\n",
        "    def forward(self, x):\n",
        "        # Max pooling over a (2, 2) window # max  pooling pour reduire la taille\n",
        "        x=self.conv1(x)\n",
        "        x=F.relu(x)\n",
        "        x=F.max_pool2d(x,(2,2))\n",
        "        # Si la taille est un carré, on peut la spécifier avec un seul chiffre\n",
        "        x = F.max_pool2d(F.relu(self.conv2(x)), 2)\n",
        "        x = torch.flatten(x, 1) # flatten toutes les dimensions à l'exception de la dimension du batch\n",
        "        # c'est pour pouvoir faire l'operation matrix-vecteur en faisant un reshape (mettre toutes les colonnes dans une seule colonne)\n",
        "        x = F.relu(self.fc1(x))\n",
        "        x = F.relu(self.fc2(x))\n",
        "        x = self.fc3(x)\n",
        "        return x\n",
        "\n",
        "\n",
        "cnnet = CNNet()\n",
        "\n",
        "\n",
        "#on peut tester la sortie de softmax\n",
        "#F.softmax(cnnet(images[0].unsqueeze(0)),dim=1)\n",
        "\n"
      ],
      "metadata": {
        "id": "va3Z9W4QLE-j"
      },
      "execution_count": null,
      "outputs": []
    },
    {
      "cell_type": "markdown",
      "source": [
        "#  Testons sa fonction forward sur un batch du trainset."
      ],
      "metadata": {
        "id": "GTwjb22lqS1t"
      }
    },
    {
      "cell_type": "code",
      "source": [],
      "metadata": {
        "id": "9wCmSrfouFfV"
      },
      "execution_count": null,
      "outputs": []
    },
    {
      "cell_type": "markdown",
      "source": [
        "Le script suivant teste la fonction forward de l'instance du modèle CNNet sur un batch d'images du trainset. Cela permet de vérifier que le modèle peut traiter un batch d'images et renvoie une sortie de forme attendue."
      ],
      "metadata": {
        "id": "5cXe6pTVqcXQ"
      }
    },
    {
      "cell_type": "code",
      "source": [
        "#Tester sa fonction forward sur un batch du trainset.\n",
        "tensor_sortie = cnnet(images) #exécute la méthode forward sur le batch d'images.\n",
        "print(tensor_sortie.shape) # Afficher la forme du tenseur de sortie pour vérifier la dimensionnalité de la sortie."
      ],
      "metadata": {
        "colab": {
          "base_uri": "https://localhost:8080/"
        },
        "id": "jTHzXiqhPZG3",
        "outputId": "17283b0c-5f98-496d-a409-640d0f9a4110"
      },
      "execution_count": null,
      "outputs": [
        {
          "output_type": "stream",
          "name": "stdout",
          "text": [
            "torch.Size([32, 10])\n"
          ]
        }
      ]
    },
    {
      "cell_type": "markdown",
      "source": [
        "Commentaire: le réseau doit traiter un batch de 32 images (comme spécifié par le batch_size de 32), la taille de sortie [32, 10] signifie que le modèle traite correctement les batches d'images et renvoie une prédiction pour chacune des 10 classes pour chaque image du batch. Ceci indique que le réseau est bien configuré."
      ],
      "metadata": {
        "id": "5zMxFqGVrxbs"
      }
    },
    {
      "cell_type": "markdown",
      "source": [
        "# Nombre de paramètres du réseau"
      ],
      "metadata": {
        "id": "ZM8CT4oxt3Fq"
      }
    },
    {
      "cell_type": "markdown",
      "source": [
        "Cette cellule de code ci-dessous contient un script qui  est conçu pour calculer et afficher le nombre total de paramètres (poids et biais) dans le réseau de neurones CNNet.\n",
        "\n",
        "\n"
      ],
      "metadata": {
        "id": "Eig9D86BuJwx"
      }
    },
    {
      "cell_type": "code",
      "source": [
        "#  Nombre de paramètres du réseau\n",
        "params = list(cnnet.parameters()) # Récupération de la liste de tous les paramètres (poids et biais) du modèle CNNet\n",
        "nb_params =0 ## Initialisation du compteur de paramètres à zéro\n",
        "# Boucle pour calculer le nombre total de paramètres en accumulant le nombre d'éléments de chaque paramètre\n",
        "for k in range(len(params)):\n",
        "    nb_params += torch.prod(torch.tensor(params[k].size()))\n",
        "print(nb_params) # Affichage du nombre total de paramètres calculé"
      ],
      "metadata": {
        "colab": {
          "base_uri": "https://localhost:8080/"
        },
        "id": "mJDV9yASPaY4",
        "outputId": "00a40491-5a0a-4210-c1b4-576b0245f29b"
      },
      "execution_count": null,
      "outputs": [
        {
          "output_type": "stream",
          "name": "stdout",
          "text": [
            "tensor(45102)\n"
          ]
        }
      ]
    },
    {
      "cell_type": "markdown",
      "source": [
        "le réseau de neurones convolutif CNNet contient exactement 45102 paramètres. Ce nombre inclut les poids et les biais de toutes les couches du réseau, à savoir les couches convolutives et les couches entièrement connectées (ou linéaires).\n",
        " Avec plus de 45000 paramètres, le modèle demandera une quantité significative de mémoire pour stocker ces paramètres et les gradients associés pendant l'entraînement.\n",
        " Cela affectera la performance et le temps d'entraînement.\n"
      ],
      "metadata": {
        "id": "d4NCCuDiwP7x"
      }
    },
    {
      "cell_type": "code",
      "source": [
        "cnnet(images)\n"
      ],
      "metadata": {
        "colab": {
          "base_uri": "https://localhost:8080/"
        },
        "id": "KQN4ryeIs9KM",
        "outputId": "e9e81388-b6fa-40e6-c1bf-766b51bc63ee"
      },
      "execution_count": null,
      "outputs": [
        {
          "output_type": "execute_result",
          "data": {
            "text/plain": [
              "tensor([[-0.1142, -0.1206, -0.0086,  0.0892, -0.0900, -0.0465,  0.0256, -0.1416,\n",
              "          0.1982, -0.0688],\n",
              "        [-0.1119, -0.1052, -0.0127,  0.1014, -0.0822, -0.0256,  0.0236, -0.1408,\n",
              "          0.1792, -0.0818],\n",
              "        [-0.1083, -0.1263, -0.0336,  0.0847, -0.1123, -0.0223,  0.0391, -0.0941,\n",
              "          0.1860, -0.0776],\n",
              "        [-0.1255, -0.1071, -0.0129,  0.0913, -0.0831, -0.0198,  0.0212, -0.1420,\n",
              "          0.1823, -0.0702],\n",
              "        [-0.1221, -0.1193, -0.0247,  0.1049, -0.0956, -0.0234,  0.0315, -0.1216,\n",
              "          0.1869, -0.0707],\n",
              "        [-0.1119, -0.1073, -0.0125,  0.0853, -0.0824, -0.0424,  0.0277, -0.1347,\n",
              "          0.1966, -0.0806],\n",
              "        [-0.0997, -0.1195, -0.0341,  0.0855, -0.1032, -0.0216,  0.0372, -0.0916,\n",
              "          0.1792, -0.0840],\n",
              "        [-0.1206, -0.1016, -0.0106,  0.0800, -0.0703, -0.0162,  0.0362, -0.1378,\n",
              "          0.2032, -0.0627],\n",
              "        [-0.0950, -0.1113, -0.0242,  0.0967, -0.1048, -0.0159, -0.0015, -0.1032,\n",
              "          0.1674, -0.0770],\n",
              "        [-0.1144, -0.1177, -0.0151,  0.1003, -0.0893, -0.0402,  0.0111, -0.1387,\n",
              "          0.1876, -0.0821],\n",
              "        [-0.1166, -0.0965, -0.0282,  0.1040, -0.0753, -0.0114,  0.0070, -0.1098,\n",
              "          0.1796, -0.0799],\n",
              "        [-0.1083, -0.1086, -0.0357,  0.1032, -0.0897, -0.0160,  0.0341, -0.1041,\n",
              "          0.1755, -0.0720],\n",
              "        [-0.0995, -0.1135, -0.0252,  0.1088, -0.0913, -0.0160,  0.0022, -0.1031,\n",
              "          0.1600, -0.0825],\n",
              "        [-0.1061, -0.1152, -0.0285,  0.0975, -0.0945, -0.0206,  0.0233, -0.1079,\n",
              "          0.1702, -0.0823],\n",
              "        [-0.1076, -0.1212, -0.0263,  0.1026, -0.0989, -0.0133,  0.0322, -0.1143,\n",
              "          0.1764, -0.0757],\n",
              "        [-0.1266, -0.1257, -0.0062,  0.0978, -0.0832, -0.0388,  0.0341, -0.1476,\n",
              "          0.2030, -0.0582],\n",
              "        [-0.0959, -0.1086, -0.0318,  0.1040, -0.0916, -0.0090,  0.0014, -0.1050,\n",
              "          0.1578, -0.0832],\n",
              "        [-0.1029, -0.1199, -0.0278,  0.1006, -0.0912, -0.0270,  0.0029, -0.1113,\n",
              "          0.1655, -0.0878],\n",
              "        [-0.1085, -0.1188, -0.0277,  0.1034, -0.0954, -0.0141,  0.0224, -0.1138,\n",
              "          0.1751, -0.0747],\n",
              "        [-0.1263, -0.1120, -0.0054,  0.0931, -0.0917, -0.0401,  0.0208, -0.1356,\n",
              "          0.1946, -0.0704],\n",
              "        [-0.1196, -0.1050, -0.0171,  0.0958, -0.0880, -0.0234, -0.0016, -0.1184,\n",
              "          0.1721, -0.0811],\n",
              "        [-0.1057, -0.1207, -0.0286,  0.1066, -0.0944, -0.0240,  0.0179, -0.1161,\n",
              "          0.1765, -0.0712],\n",
              "        [-0.1065, -0.1230, -0.0366,  0.1001, -0.1096, -0.0218,  0.0283, -0.0948,\n",
              "          0.1697, -0.0756],\n",
              "        [-0.1133, -0.1159, -0.0193,  0.0970, -0.0920, -0.0191,  0.0371, -0.1132,\n",
              "          0.1872, -0.0729],\n",
              "        [-0.1135, -0.1135, -0.0336,  0.0876, -0.0826, -0.0238,  0.0188, -0.1074,\n",
              "          0.1802, -0.0772],\n",
              "        [-0.1305, -0.1149, -0.0072,  0.0895, -0.0981, -0.0390,  0.0251, -0.1226,\n",
              "          0.1990, -0.0599],\n",
              "        [-0.0983, -0.1071, -0.0190,  0.1028, -0.0979, -0.0112,  0.0011, -0.1081,\n",
              "          0.1634, -0.0840],\n",
              "        [-0.1101, -0.1161, -0.0142,  0.0797, -0.1112, -0.0129,  0.0361, -0.1163,\n",
              "          0.2027, -0.0635],\n",
              "        [-0.1176, -0.0922, -0.0364,  0.1066, -0.0736, -0.0011,  0.0170, -0.1097,\n",
              "          0.1737, -0.0791],\n",
              "        [-0.1113, -0.1048, -0.0300,  0.0992, -0.0872, -0.0096,  0.0054, -0.1068,\n",
              "          0.1600, -0.0834],\n",
              "        [-0.1036, -0.1133, -0.0221,  0.1050, -0.0954, -0.0136, -0.0029, -0.1121,\n",
              "          0.1566, -0.0825],\n",
              "        [-0.0993, -0.1075, -0.0309,  0.1023, -0.0981, -0.0092,  0.0021, -0.0950,\n",
              "          0.1641, -0.0811]], grad_fn=<AddmmBackward0>)"
            ]
          },
          "metadata": {},
          "execution_count": 34
        }
      ]
    },
    {
      "cell_type": "markdown",
      "source": [
        "Ici  nous avons des valeurs non normalisées appelées logits qui representent les scores prédits pour chaque classe par le reseau. Les logits positifs indiquent une prédiction plus forte en faveur d'une classe, tandis que les valeurs négatives sont moins favorables.\n",
        "Pour une meilleur interpretation , nous allons convertir ces scores en probabilités.\n",
        "\n",
        " En effet ceci va normaliser les scores pour que chaque ligne somme à 1."
      ],
      "metadata": {
        "id": "tUcTf02vqMR3"
      }
    },
    {
      "cell_type": "code",
      "source": [
        "probabilities = F.softmax(tensor_sortie, dim=1)\n",
        "print(\"Probabilities:\", probabilities)\n",
        "print(\"Sum of probabilities for a sample:\", probabilities[0].sum())  # Devrait être 1\n"
      ],
      "metadata": {
        "colab": {
          "base_uri": "https://localhost:8080/"
        },
        "id": "wdZXNq7wlRHK",
        "outputId": "29abd4c6-7630-4e37-9c5c-31ec1c9ffc21"
      },
      "execution_count": null,
      "outputs": [
        {
          "output_type": "stream",
          "name": "stdout",
          "text": [
            "Probabilities: tensor([[0.0912, 0.0906, 0.1014, 0.1118, 0.0935, 0.0976, 0.1049, 0.0888, 0.1247,\n",
            "         0.0955],\n",
            "        [0.0913, 0.0919, 0.1008, 0.1130, 0.0940, 0.0995, 0.1045, 0.0887, 0.1221,\n",
            "         0.0941],\n",
            "        [0.0917, 0.0901, 0.0988, 0.1112, 0.0913, 0.0999, 0.1063, 0.0930, 0.1231,\n",
            "         0.0946],\n",
            "        [0.0901, 0.0918, 0.1009, 0.1120, 0.0941, 0.1002, 0.1044, 0.0887, 0.1226,\n",
            "         0.0953],\n",
            "        [0.0903, 0.0906, 0.0996, 0.1133, 0.0927, 0.0997, 0.1053, 0.0904, 0.1230,\n",
            "         0.0951],\n",
            "        [0.0913, 0.0918, 0.1009, 0.1112, 0.0941, 0.0979, 0.1050, 0.0893, 0.1243,\n",
            "         0.0942],\n",
            "        [0.0924, 0.0906, 0.0987, 0.1112, 0.0921, 0.0999, 0.1060, 0.0932, 0.1221,\n",
            "         0.0939],\n",
            "        [0.0900, 0.0917, 0.1004, 0.1100, 0.0946, 0.0999, 0.1053, 0.0884, 0.1244,\n",
            "         0.0953],\n",
            "        [0.0930, 0.0915, 0.0999, 0.1127, 0.0921, 0.1007, 0.1021, 0.0923, 0.1209,\n",
            "         0.0947],\n",
            "        [0.0914, 0.0911, 0.1010, 0.1133, 0.0937, 0.0985, 0.1037, 0.0892, 0.1237,\n",
            "         0.0944],\n",
            "        [0.0906, 0.0925, 0.0990, 0.1130, 0.0945, 0.1007, 0.1026, 0.0913, 0.1219,\n",
            "         0.0940],\n",
            "        [0.0913, 0.0913, 0.0982, 0.1128, 0.0931, 0.1002, 0.1053, 0.0917, 0.1213,\n",
            "         0.0947],\n",
            "        [0.0925, 0.0912, 0.0997, 0.1140, 0.0933, 0.1006, 0.1024, 0.0922, 0.1199,\n",
            "         0.0941],\n",
            "        [0.0919, 0.0911, 0.0994, 0.1127, 0.0930, 0.1001, 0.1046, 0.0918, 0.1212,\n",
            "         0.0941],\n",
            "        [0.0916, 0.0904, 0.0994, 0.1130, 0.0924, 0.1007, 0.1053, 0.0910, 0.1217,\n",
            "         0.0946],\n",
            "        [0.0898, 0.0899, 0.1013, 0.1124, 0.0938, 0.0981, 0.1055, 0.0880, 0.1249,\n",
            "         0.0962],\n",
            "        [0.0929, 0.0917, 0.0990, 0.1135, 0.0933, 0.1013, 0.1024, 0.0921, 0.1197,\n",
            "         0.0941],\n",
            "        [0.0926, 0.0910, 0.0998, 0.1135, 0.0936, 0.0999, 0.1029, 0.0918, 0.1211,\n",
            "         0.0940],\n",
            "        [0.0916, 0.0906, 0.0993, 0.1132, 0.0928, 0.1007, 0.1044, 0.0911, 0.1216,\n",
            "         0.0947],\n",
            "        [0.0901, 0.0914, 0.1017, 0.1122, 0.0933, 0.0982, 0.1044, 0.0893, 0.1242,\n",
            "         0.0953],\n",
            "        [0.0909, 0.0922, 0.1007, 0.1128, 0.0938, 0.1001, 0.1023, 0.0910, 0.1217,\n",
            "         0.0945],\n",
            "        [0.0919, 0.0905, 0.0993, 0.1136, 0.0930, 0.0997, 0.1040, 0.0910, 0.1219,\n",
            "         0.0951],\n",
            "        [0.0919, 0.0904, 0.0986, 0.1130, 0.0917, 0.1001, 0.1052, 0.0930, 0.1212,\n",
            "         0.0948],\n",
            "        [0.0909, 0.0906, 0.0998, 0.1121, 0.0928, 0.0998, 0.1056, 0.0909, 0.1227,\n",
            "         0.0946],\n",
            "        [0.0913, 0.0913, 0.0989, 0.1116, 0.0941, 0.0998, 0.1042, 0.0918, 0.1224,\n",
            "         0.0946],\n",
            "        [0.0896, 0.0910, 0.1013, 0.1116, 0.0925, 0.0982, 0.1047, 0.0903, 0.1246,\n",
            "         0.0962],\n",
            "        [0.0926, 0.0918, 0.1003, 0.1133, 0.0927, 0.1011, 0.1023, 0.0917, 0.1203,\n",
            "         0.0940],\n",
            "        [0.0912, 0.0906, 0.1003, 0.1102, 0.0910, 0.1005, 0.1055, 0.0906, 0.1246,\n",
            "         0.0955],\n",
            "        [0.0904, 0.0927, 0.0981, 0.1131, 0.0945, 0.1016, 0.1034, 0.0911, 0.1210,\n",
            "         0.0940],\n",
            "        [0.0915, 0.0921, 0.0993, 0.1130, 0.0938, 0.1013, 0.1029, 0.0919, 0.1201,\n",
            "         0.0941],\n",
            "        [0.0924, 0.0915, 0.1002, 0.1138, 0.0931, 0.1011, 0.1022, 0.0916, 0.1198,\n",
            "         0.0943],\n",
            "        [0.0925, 0.0917, 0.0990, 0.1131, 0.0926, 0.1012, 0.1024, 0.0929, 0.1204,\n",
            "         0.0942]], grad_fn=<SoftmaxBackward0>)\n",
            "Sum of probabilities for a sample: tensor(1., grad_fn=<SumBackward0>)\n"
          ]
        }
      ]
    },
    {
      "cell_type": "markdown",
      "source": [
        "Pour faciliter, choisissons une image specifique."
      ],
      "metadata": {
        "id": "ApDXjGhWyqia"
      }
    },
    {
      "cell_type": "code",
      "source": [
        "F.softmax(cnnet(images[3].unsqueeze(0)),dim=1)"
      ],
      "metadata": {
        "colab": {
          "base_uri": "https://localhost:8080/"
        },
        "id": "X_gtfCe0zXW7",
        "outputId": "380f3ea0-0467-46b6-9ec7-21758cb01910"
      },
      "execution_count": null,
      "outputs": [
        {
          "output_type": "execute_result",
          "data": {
            "text/plain": [
              "tensor([[0.0901, 0.0918, 0.1009, 0.1120, 0.0941, 0.1002, 0.1044, 0.0887, 0.1226,\n",
              "         0.0953]], grad_fn=<SoftmaxBackward0>)"
            ]
          },
          "metadata": {},
          "execution_count": 36
        }
      ]
    },
    {
      "cell_type": "markdown",
      "source": [
        "Cette prediction n'est pas vraiment raisonnable car la plus grande proba:0.1126 correspond à Dress alors l'image 3 correspond à un sac (bag)."
      ],
      "metadata": {
        "id": "c1iCMDUjzblh"
      }
    },
    {
      "cell_type": "markdown",
      "source": [
        "Le code ci-dessous me permettait d'enregistrer le fichier CNNET.pt que vous m'aviez envoyé. Cependant ayant compris que c'etait un problème de batch_size, j'ai re-adapté mes scripts.  \n"
      ],
      "metadata": {
        "id": "cuiht_Xd0T1n"
      }
    },
    {
      "cell_type": "code",
      "source": [
        "#from google.colab import files\n",
        "#uploaded = files.upload()\n",
        "\n"
      ],
      "metadata": {
        "colab": {
          "base_uri": "https://localhost:8080/",
          "height": 73
        },
        "id": "0vrqB6AruI_h",
        "outputId": "bb8b1f99-0587-49db-d757-4d0e8b0c9025"
      },
      "execution_count": null,
      "outputs": [
        {
          "output_type": "display_data",
          "data": {
            "text/plain": [
              "<IPython.core.display.HTML object>"
            ],
            "text/html": [
              "\n",
              "     <input type=\"file\" id=\"files-65f149dd-91bf-4149-b028-577c5fa4e56f\" name=\"files[]\" multiple disabled\n",
              "        style=\"border:none\" />\n",
              "     <output id=\"result-65f149dd-91bf-4149-b028-577c5fa4e56f\">\n",
              "      Upload widget is only available when the cell has been executed in the\n",
              "      current browser session. Please rerun this cell to enable.\n",
              "      </output>\n",
              "      <script>// Copyright 2017 Google LLC\n",
              "//\n",
              "// Licensed under the Apache License, Version 2.0 (the \"License\");\n",
              "// you may not use this file except in compliance with the License.\n",
              "// You may obtain a copy of the License at\n",
              "//\n",
              "//      http://www.apache.org/licenses/LICENSE-2.0\n",
              "//\n",
              "// Unless required by applicable law or agreed to in writing, software\n",
              "// distributed under the License is distributed on an \"AS IS\" BASIS,\n",
              "// WITHOUT WARRANTIES OR CONDITIONS OF ANY KIND, either express or implied.\n",
              "// See the License for the specific language governing permissions and\n",
              "// limitations under the License.\n",
              "\n",
              "/**\n",
              " * @fileoverview Helpers for google.colab Python module.\n",
              " */\n",
              "(function(scope) {\n",
              "function span(text, styleAttributes = {}) {\n",
              "  const element = document.createElement('span');\n",
              "  element.textContent = text;\n",
              "  for (const key of Object.keys(styleAttributes)) {\n",
              "    element.style[key] = styleAttributes[key];\n",
              "  }\n",
              "  return element;\n",
              "}\n",
              "\n",
              "// Max number of bytes which will be uploaded at a time.\n",
              "const MAX_PAYLOAD_SIZE = 100 * 1024;\n",
              "\n",
              "function _uploadFiles(inputId, outputId) {\n",
              "  const steps = uploadFilesStep(inputId, outputId);\n",
              "  const outputElement = document.getElementById(outputId);\n",
              "  // Cache steps on the outputElement to make it available for the next call\n",
              "  // to uploadFilesContinue from Python.\n",
              "  outputElement.steps = steps;\n",
              "\n",
              "  return _uploadFilesContinue(outputId);\n",
              "}\n",
              "\n",
              "// This is roughly an async generator (not supported in the browser yet),\n",
              "// where there are multiple asynchronous steps and the Python side is going\n",
              "// to poll for completion of each step.\n",
              "// This uses a Promise to block the python side on completion of each step,\n",
              "// then passes the result of the previous step as the input to the next step.\n",
              "function _uploadFilesContinue(outputId) {\n",
              "  const outputElement = document.getElementById(outputId);\n",
              "  const steps = outputElement.steps;\n",
              "\n",
              "  const next = steps.next(outputElement.lastPromiseValue);\n",
              "  return Promise.resolve(next.value.promise).then((value) => {\n",
              "    // Cache the last promise value to make it available to the next\n",
              "    // step of the generator.\n",
              "    outputElement.lastPromiseValue = value;\n",
              "    return next.value.response;\n",
              "  });\n",
              "}\n",
              "\n",
              "/**\n",
              " * Generator function which is called between each async step of the upload\n",
              " * process.\n",
              " * @param {string} inputId Element ID of the input file picker element.\n",
              " * @param {string} outputId Element ID of the output display.\n",
              " * @return {!Iterable<!Object>} Iterable of next steps.\n",
              " */\n",
              "function* uploadFilesStep(inputId, outputId) {\n",
              "  const inputElement = document.getElementById(inputId);\n",
              "  inputElement.disabled = false;\n",
              "\n",
              "  const outputElement = document.getElementById(outputId);\n",
              "  outputElement.innerHTML = '';\n",
              "\n",
              "  const pickedPromise = new Promise((resolve) => {\n",
              "    inputElement.addEventListener('change', (e) => {\n",
              "      resolve(e.target.files);\n",
              "    });\n",
              "  });\n",
              "\n",
              "  const cancel = document.createElement('button');\n",
              "  inputElement.parentElement.appendChild(cancel);\n",
              "  cancel.textContent = 'Cancel upload';\n",
              "  const cancelPromise = new Promise((resolve) => {\n",
              "    cancel.onclick = () => {\n",
              "      resolve(null);\n",
              "    };\n",
              "  });\n",
              "\n",
              "  // Wait for the user to pick the files.\n",
              "  const files = yield {\n",
              "    promise: Promise.race([pickedPromise, cancelPromise]),\n",
              "    response: {\n",
              "      action: 'starting',\n",
              "    }\n",
              "  };\n",
              "\n",
              "  cancel.remove();\n",
              "\n",
              "  // Disable the input element since further picks are not allowed.\n",
              "  inputElement.disabled = true;\n",
              "\n",
              "  if (!files) {\n",
              "    return {\n",
              "      response: {\n",
              "        action: 'complete',\n",
              "      }\n",
              "    };\n",
              "  }\n",
              "\n",
              "  for (const file of files) {\n",
              "    const li = document.createElement('li');\n",
              "    li.append(span(file.name, {fontWeight: 'bold'}));\n",
              "    li.append(span(\n",
              "        `(${file.type || 'n/a'}) - ${file.size} bytes, ` +\n",
              "        `last modified: ${\n",
              "            file.lastModifiedDate ? file.lastModifiedDate.toLocaleDateString() :\n",
              "                                    'n/a'} - `));\n",
              "    const percent = span('0% done');\n",
              "    li.appendChild(percent);\n",
              "\n",
              "    outputElement.appendChild(li);\n",
              "\n",
              "    const fileDataPromise = new Promise((resolve) => {\n",
              "      const reader = new FileReader();\n",
              "      reader.onload = (e) => {\n",
              "        resolve(e.target.result);\n",
              "      };\n",
              "      reader.readAsArrayBuffer(file);\n",
              "    });\n",
              "    // Wait for the data to be ready.\n",
              "    let fileData = yield {\n",
              "      promise: fileDataPromise,\n",
              "      response: {\n",
              "        action: 'continue',\n",
              "      }\n",
              "    };\n",
              "\n",
              "    // Use a chunked sending to avoid message size limits. See b/62115660.\n",
              "    let position = 0;\n",
              "    do {\n",
              "      const length = Math.min(fileData.byteLength - position, MAX_PAYLOAD_SIZE);\n",
              "      const chunk = new Uint8Array(fileData, position, length);\n",
              "      position += length;\n",
              "\n",
              "      const base64 = btoa(String.fromCharCode.apply(null, chunk));\n",
              "      yield {\n",
              "        response: {\n",
              "          action: 'append',\n",
              "          file: file.name,\n",
              "          data: base64,\n",
              "        },\n",
              "      };\n",
              "\n",
              "      let percentDone = fileData.byteLength === 0 ?\n",
              "          100 :\n",
              "          Math.round((position / fileData.byteLength) * 100);\n",
              "      percent.textContent = `${percentDone}% done`;\n",
              "\n",
              "    } while (position < fileData.byteLength);\n",
              "  }\n",
              "\n",
              "  // All done.\n",
              "  yield {\n",
              "    response: {\n",
              "      action: 'complete',\n",
              "    }\n",
              "  };\n",
              "}\n",
              "\n",
              "scope.google = scope.google || {};\n",
              "scope.google.colab = scope.google.colab || {};\n",
              "scope.google.colab._files = {\n",
              "  _uploadFiles,\n",
              "  _uploadFilesContinue,\n",
              "};\n",
              "})(self);\n",
              "</script> "
            ]
          },
          "metadata": {}
        },
        {
          "output_type": "stream",
          "name": "stdout",
          "text": [
            "Saving cnnet.pt to cnnet (1).pt\n"
          ]
        }
      ]
    },
    {
      "cell_type": "markdown",
      "metadata": {
        "id": "czxLOjJpImVp"
      },
      "source": [
        "##Entraînement du réseau"
      ]
    },
    {
      "cell_type": "markdown",
      "metadata": {
        "id": "JMSz4iH4H8ON"
      },
      "source": [
        "###Question 5 :\n",
        "Proposer un script qui entraîne le réseau `cnnet` sur 10 epochs avec affichage à chaque epochs de l'\"epoch loss\" (moyenne des loss sur chaque batch considérés dans l'epoch, soit la \"running loss\" accumulée sur toute l'epoch) et du temps total de l'entraînement.\n",
        "\n"
      ]
    },
    {
      "cell_type": "markdown",
      "source": [
        "Cette cellule de code ci-dessous contient un  script qui configure et exécute un processus d'entraînement pour CNNet. On commence par importer les Modules necessaires et initialiser les paramètres. Ensuite on Configure la Fonction de Perte et de l'Optimiseur , on definit une boucle d'entraînement sur les epochs(époques) et pour finir après chaque époque, la perte moyenne est calculée et affichée.\n",
        "Après l'entraînement, le temps total d'entraînement est affiché.\n",
        "\n",
        "***Mise à jour des poids par batch (optimizer.step() )***\n",
        "\n",
        "Pour la boucle d'entraînement:\n",
        "*   La boucle externe itère sur le nombre total d'époques spécifié.\n",
        "\n",
        "*   La boucle interne itère sur les batches de données du trainloader.\n",
        "*   Pour chaque batch, les gradients sont réinitialisés, le processus forward est exécuté pour obtenir les outputs, la perte est calculée et la rétropropagation est effectuée, suivie par une mise à jour des poids du modèle.\n",
        "\n",
        "En somme  on réalise un entraînement complet du modèle CNNet sur le dataset FashionMNIST, avec un retour sur la perte par époque(epoch) et le temps total nécessaire pour l'entraînement."
      ],
      "metadata": {
        "id": "7BaAgEEzxPRp"
      }
    },
    {
      "cell_type": "code",
      "source": [
        "import torch.optim as optim\n",
        "#ce module fournit des optimisateurs comme SGD, Adam, RMSprop, et d'autres,\n",
        "#qui sont des techniques courantes pour ajuster les poids des réseaux de neurones\n",
        "#lors de l'entraînement en minimisant la fonction de perte.\n",
        "import time # Module pour mesurer le temps, on veut calculer la durée de l'entraînement.\n",
        "\n",
        "criterion = nn.CrossEntropyLoss() #  Définit la fonction de perte CrossEntropyLoss.\n",
        "optimizer = optim.SGD(cnnet.parameters(), lr=0.01, momentum=0.9) # Définit l'optimiseur Stochastic Gradient Descent (SGD) avec un certain taux d'apprentissage et momentum\n",
        "#lr : Le taux d'apprentissage (learning rate) qui contrôle la vitesse à laquelle les poids sont mis à jour.\n",
        "#momentum : Un paramètre qui aide à accélérer l'apprentissage en dirigeant le gradient dans la bonne direction.\n",
        "# Entraînement\n",
        "start_time = time.time() # Enregistre le moment de début de l'entraînement pour calculer sa durée totale à la fin.\n",
        "for epoch in range(10):  # Entraîner sur 10 epochs\n",
        "    running_loss = 0.0\n",
        "    for i, data in enumerate(trainloader, 0):\n",
        "        inputs, labels = data\n",
        "\n",
        "        optimizer.zero_grad()\n",
        "\n",
        "        outputs = cnnet(inputs)\n",
        "        loss = criterion(outputs, labels)\n",
        "        loss.backward()  # Calcul des gradients\n",
        "        optimizer.step()  # Mise à jour des poids\n",
        "\n",
        "        running_loss += loss.item()  #  Accumule les pertes pour chaque batch au sein d'une époque.\n",
        "\n",
        "    # Affichage de la perte moyenne pour l'epoch\n",
        "        #epoch_loss = running_loss / len(trainloader)\n",
        "    print(f'Epoch {epoch + 1}: Loss = {running_loss / len(trainloader):.3f}')\n",
        "\n",
        "total_time = time.time() - start_time\n",
        "print(f'Entrainement achévé en {total_time:.2f} secondes')\n",
        "\n"
      ],
      "metadata": {
        "id": "JJLK0JgRLG6O",
        "colab": {
          "base_uri": "https://localhost:8080/"
        },
        "outputId": "42dee309-0994-41ad-e19a-e2ac79be3773"
      },
      "execution_count": null,
      "outputs": [
        {
          "output_type": "stream",
          "name": "stdout",
          "text": [
            "Epoch 1: Loss = 0.609\n",
            "Epoch 2: Loss = 0.355\n",
            "Epoch 3: Loss = 0.307\n",
            "Epoch 4: Loss = 0.280\n",
            "Epoch 5: Loss = 0.260\n",
            "Epoch 6: Loss = 0.245\n",
            "Epoch 7: Loss = 0.231\n",
            "Epoch 8: Loss = 0.219\n",
            "Epoch 9: Loss = 0.208\n",
            "Epoch 10: Loss = 0.198\n",
            "Entrainement achévé en 409.89 secondes\n"
          ]
        }
      ]
    },
    {
      "cell_type": "markdown",
      "source": [
        "Tout d'abord commençons par définir un epoch.\n",
        "Une epoch(cycle) est réalisée quand toutes les données d'entrainement ont été utilisées pour entraîner le reseau. Et chaque epoch permet au modèle d'apprendre et de s'ameliorer à partir des erreurs commises dans les predictions précedentes.Essentiellement en ajustant ses poids.\n",
        "\n",
        "Ainsi l'epoch est là pour mettre à jour les paramètres du modèle.\n",
        "\n",
        "Sans rentrer dans les détails , plus la perte est minime plus le modèle a été bien entraîner . Ici on remarque une dimunition de la perte sur les 10 periodes , ceci montre que le reseau apprend .\n",
        "\n",
        "La perte continue de diminuer à chaque époque sans augmenter, ceci montre que\n",
        "dans le reseau il n'y a pas de  sur-apprentissage ou d'instabilité.\n",
        "\n",
        "\n",
        "\n"
      ],
      "metadata": {
        "id": "SHvTdA8_1ATZ"
      }
    },
    {
      "cell_type": "markdown",
      "source": [
        "Je vais enregistré l'état actuel de CNNet dans un fichier sur le disque. Cela me permettra de conserver les paramètres appris du modèle après l'entraînement pour une utilisation future, sans avoir besoin de réentraîner le modèle à chaque fois."
      ],
      "metadata": {
        "id": "lue6eie51G7V"
      }
    },
    {
      "cell_type": "code",
      "source": [
        "PATH = './FashionMNIST_cnnet.pth' # Définit le chemin du fichier où le modèle sera sauvegardé\n",
        "torch.save(cnnet.state_dict(), PATH) # Sauvegarde l'état du modèle dans le fichier spécifié par PATH\n"
      ],
      "metadata": {
        "id": "uSKApoFGkczI"
      },
      "execution_count": null,
      "outputs": []
    },
    {
      "cell_type": "markdown",
      "source": [
        "La cellule de code ci-dessous nous indique comment charger les paramètres sauvegardés de notre reseau . Cela permet de restaurer rapidement l'état de mon modèle précédemment entraîné sans  encore une fois nécessiter un nouvel entraînement."
      ],
      "metadata": {
        "id": "G1SemYB71z18"
      }
    },
    {
      "cell_type": "code",
      "source": [
        "cnnet = CNNet() # Crée une nouvelle instance du modèle CNNet\n",
        "PATH = './FashionMNIST_cnnet.pth'\n",
        "cnnet.load_state_dict(torch.load(PATH)) # Charge les paramètres sauvegardés dans l'instance du modèle cnnet\n",
        "\n"
      ],
      "metadata": {
        "colab": {
          "base_uri": "https://localhost:8080/"
        },
        "id": "YjAWVoU0mndO",
        "outputId": "5f191224-3ea6-4e89-ce32-222f4cc89a50"
      },
      "execution_count": null,
      "outputs": [
        {
          "output_type": "execute_result",
          "data": {
            "text/plain": [
              "<All keys matched successfully>"
            ]
          },
          "metadata": {},
          "execution_count": 12
        }
      ]
    },
    {
      "cell_type": "markdown",
      "metadata": {
        "id": "gTrG06YqKxNU"
      },
      "source": [
        "### Question 6 :\n",
        "\n",
        "Expliquer la relation mathématique entre la sortie du réseau de neurones et la classe prédite par le réseau de neurone. Justifier cette formule.\n"
      ]
    },
    {
      "cell_type": "markdown",
      "source": [
        "La sortie du reseau de neurones va nous donner un vecteurs de valeurs non normalisées ou logits(regression logistique) produites par la derniere couche lineaire qui representent des scores pour chaque classe. Pour mieux comprendre comment le reseau classe les images on applique la fonction Softmax qui va normaliser ces scores afin de prevenir les problemes numeriques qui peuvent survenir lors l'interpretation tels que l'ecrasement des gradients.\n",
        "En effet la fonction Softmax transformera ces scores en probabilités en utilisant la formule suivante:\n",
        "\n",
        "Pour un vecteur de logits $w=w_1,w_2,...,w_K$ qui correspond à K classes\n",
        "$$ p_k = \\frac{e^{w_k}}{\\sum_{j=1} e^{w_j}}\n",
        "$$  \n",
        "où $e^{w_k}$  est l'exponentielle du logit pour la classe k\n",
        "\n",
        "$\\sum_{j=1} e^{w_j}$ est la somme des exponentielles de tous les logits, ce qui normalise les probabilités pour qu'elles somment à 1.\n",
        "\n",
        "Cette formule represente la probabilité que le reseau prédise que l'image appartient à la classe k\n",
        "\n",
        "Justification:\n",
        "\n",
        "Sans faire le softmax on remarque des valeurs negatives à la sortie ainsi la fonction exponentielle nous assure que toutes les valeurs sont positives et la division par la somme des exponentielles assure la normalisation\n",
        "\n",
        "Aussi afin d'être plus confiant dans la prediction de la classe , l'exponentielle nous permettra d'avoir des probabilités plus distinctives\n",
        "\n",
        "Ensuite on choisit la classe ayant la plus haute probabilité qui est theoriquement la plus probable d'être la vraie classe de l'image donnée.\n",
        "\n",
        "Cette méthode est justifiée par sa capacité à fournir des estimations probabilistes normalisées et à optimiser la décision de classification basée sur ces estimations.\n",
        "\n",
        "\n",
        "\n",
        "\n",
        "\n"
      ],
      "metadata": {
        "id": "y9Z-qqKhP9Zf"
      }
    },
    {
      "cell_type": "markdown",
      "metadata": {
        "id": "NEeDRD39LMzW"
      },
      "source": [
        "### Question 7 :\n",
        "A l'aide des fonctions de ```sklearn```utilisées en cours, évaluer la performance du réseau entraîné (rapport de classification et matrice de confusion).\n",
        "\n",
        "Commenter les résultats. Que proposez-vous pour améliorer les performances du réseau ?"
      ]
    },
    {
      "cell_type": "markdown",
      "source": [
        "Les 2 cellules ci-dessous evalue la performance du réseau entraîné en utilisant ce dit reseau CNNet pour prédire les classes sur le dataset de test, génèrer un rapport de classification, et afficher une matrice de confusion.\n",
        "On commence par initialiser les tenseurs pour les étiquettes et les prédictions, ensuite on definit une boucle de prédiction sans calcul de gradient , par la suite après avoir importer les modules nécessaires pour générer un rapport de classification et une matrice de confusion, on Convertit les Tenseurs PyTorch en Numpy pour l'analyse . Et pour finir on affiche le rapport de classification et  la matrice de confusion après avoir calculer ce dernier."
      ],
      "metadata": {
        "id": "tTtBcEPq29Zz"
      }
    },
    {
      "cell_type": "code",
      "source": [
        "# Initialisation de deux tenseurs vides pour stocker les étiquettes réelles et les prédictions\n",
        "# à mesure que les données sont traitées batch par batch.\n",
        "all_labels = torch.tensor([])\n",
        "all_predicted = torch.tensor([])\n",
        "with torch.no_grad(): #Désactivation du calcul des gradients pour économiser de la mémoire et accélérer l'évaluation\n",
        "# (aucune mise à jour des poids n'est nécessaire)\n",
        "    for data in testloader:\n",
        "        images, labels = data  # Extraction des images et des étiquettes du lot de test\n",
        "        outputs = cnnet(images)  # Passage des images dans le modèle CNN pour obtenir les prédictions (outputs)\n",
        "        _, predicted = torch.max(outputs.data, 1)# Utilisation de torch.max pour obtenir la classe avec la plus grande valeur (probabilité la plus élevée)\n",
        "        #Le paramètre 1 indique qu'on cherche le maximum sur la deuxième dimension (les classes)\n",
        "\n",
        "        all_labels = torch.cat((all_labels, labels)) # Concatenation des étiquettes réelles actuelles avec les étiquettes précédemment stockées\n",
        "        all_predicted = torch.cat((all_predicted, predicted)) # Concatenation des prédictions actuelles avec les prédictions précédemment stockées\n"
      ],
      "metadata": {
        "id": "EgjXLdIaLMEs"
      },
      "execution_count": null,
      "outputs": []
    },
    {
      "cell_type": "code",
      "source": [
        "from sklearn.metrics import classification_report\n",
        "from sklearn.metrics import confusion_matrix, ConfusionMatrixDisplay\n",
        "\n",
        "t_test = all_labels\n",
        "t_pred = all_predicted\n",
        "\n",
        "\n",
        "#Classification report\n",
        "print(classification_report(t_test,t_pred,target_names = classes))\n",
        "\n",
        "#Confusion matrix\n",
        "rcm = confusion_matrix(t_test,t_pred)\n",
        "disp = ConfusionMatrixDisplay(confusion_matrix=rcm,display_labels = classes)\n",
        "disp.plot()"
      ],
      "metadata": {
        "colab": {
          "base_uri": "https://localhost:8080/",
          "height": 761
        },
        "id": "mWGawgTSqlkq",
        "outputId": "aaf850f8-5940-47cb-f2c2-37b135b9ff81"
      },
      "execution_count": null,
      "outputs": [
        {
          "output_type": "stream",
          "name": "stdout",
          "text": [
            "              precision    recall  f1-score   support\n",
            "\n",
            " T-shirt/top       0.84      0.86      0.85      1000\n",
            "     Trouser       0.98      0.99      0.98      1000\n",
            "    Pullover       0.83      0.83      0.83      1000\n",
            "       Dress       0.91      0.89      0.90      1000\n",
            "        Coat       0.85      0.86      0.85      1000\n",
            "      Sandal       0.99      0.91      0.95      1000\n",
            "       Shirt       0.73      0.70      0.72      1000\n",
            "     Sneaker       0.88      0.99      0.93      1000\n",
            "         Bag       0.95      0.97      0.96      1000\n",
            "  Ankle boot       0.97      0.93      0.95      1000\n",
            "\n",
            "    accuracy                           0.89     10000\n",
            "   macro avg       0.89      0.89      0.89     10000\n",
            "weighted avg       0.89      0.89      0.89     10000\n",
            "\n"
          ]
        },
        {
          "output_type": "execute_result",
          "data": {
            "text/plain": [
              "<sklearn.metrics._plot.confusion_matrix.ConfusionMatrixDisplay at 0x7a419ef3a710>"
            ]
          },
          "metadata": {},
          "execution_count": 19
        },
        {
          "output_type": "display_data",
          "data": {
            "text/plain": [
              "<Figure size 640x480 with 2 Axes>"
            ],
            "image/png": "[encoded data removed]"
          },
          "metadata": {}
        }
      ]
    },
    {
      "cell_type": "markdown",
      "source": [
        "classification_report : Fournit un rapport détaillé des métriques de performance (précision, rappel, F1-score) pour chaque classe.\n",
        "\n",
        "confusion_matrix : Génère une matrice de confusion pour comprendre comment les prédictions se répartissent par rapport aux vraies classes.\n",
        "\n",
        "ConfusionMatrixDisplay : Affiche la matrice de confusion sous forme de graphique pour une meilleure interprétation visuelle des résultats."
      ],
      "metadata": {
        "id": "cnHhiydSE9LQ"
      }
    },
    {
      "cell_type": "markdown",
      "source": [
        "### Le pLus important:\n",
        "Comme vu en TP , on s'interesse plus à la ligne (accuracy) notamment avec la colonne f1-score qui represente la precision globale du modèle est de 89%, ce qui est extrêmement élevé. Cela indique que le modèle a correctement classé  89% des exemples du testset.\n",
        "\n",
        "### Pour la matrice de confusion:\n",
        "Sur la diagonale, nous avons le nombre de prédictions correctes pour chaque classe et en dehors de la diagonale le nombre de predictions incorrectes.\n",
        "\n",
        "Les classes 1,5,7 et 8 sont prédites  avec une forte précision et avec une faible confusion avec d'autres classes.\n",
        "\n",
        " La classe 0 T-shirt/top a   souvent été confondu avec la classe Shirt (231 T-shirt/top ont été prédit comme Shirt). Cela pourrait indiquer une similarité visuelle entre ces deux classes que le modèle a du mal à distinguer, ceci se comprend en regardant les datasets de FashionMNIST .\n",
        "\n",
        " La classe 4 Coat a souvent été confondu avec la classe Shirt (153 coat ont été prédits comme shirt).\n",
        "\n",
        " Dans l'ensemble on peut dire que le modèle performe bien avec une précision  élevée.\n",
        "\n",
        " Amelioration:\n",
        "\n",
        " En augmentant le taille du batch et le nombre de couches car avec plus de couches on peut capter des cas complexes.\n",
        "La taille du batch affectera efficacité de l'apprentissage et l'utilisation de la mémoire.\n",
        "\n",
        "On pourrait egalement modifier les paramètres comme le Taux d'apprentissage \"lr\" et le momentum dans le de trouver un meilleur minimum global durant l'entraînement et une stabilisation de la convergence.\n",
        "\n",
        "\n",
        "\n",
        "\n"
      ],
      "metadata": {
        "id": "68mQ0bnj592C"
      }
    },
    {
      "cell_type": "code",
      "source": [
        "import pandas as pd\n",
        "from sklearn.metrics import classification_report\n",
        "\n",
        "# Génération du rapport de classification\n",
        "resnet_report = classification_report(all_labels, all_predicted, target_names=classes, output_dict=True)\n",
        "\n",
        "# Conversion du rapport en DataFrame et exportation en CSV\n",
        "resnet_report_df = pd.DataFrame(resnet_report).transpose()\n",
        "#report_df.to_csv('classification_reports.csv', index=True)\n",
        "#print(\"Le rapport de classification a été exporté en classification_report.csv\")"
      ],
      "metadata": {
        "id": "Oz2IqCisQNYw"
      },
      "execution_count": null,
      "outputs": []
    },
    {
      "cell_type": "code",
      "source": [
        "from sklearn.metrics import confusion_matrix\n",
        "\n",
        "# Génération de la matrice de confusion\n",
        "resnet_cm = confusion_matrix(all_labels, all_predicted)\n",
        "\n",
        "# Conversion de la matrice de confusion en DataFrame\n",
        "resnet_cm_df = pd.DataFrame(resnet_cm, index=classes, columns=classes)\n",
        "\n",
        "# Exportation en CSV\n",
        "#cm_df.to_csv('confusion_matrix.csv', index=True)\n",
        "#print(\"La matrice de confusion a été exportée en confusion_matrix.csv\")\n"
      ],
      "metadata": {
        "id": "kxk28GNvQssx"
      },
      "execution_count": null,
      "outputs": []
    },
    {
      "cell_type": "markdown",
      "source": [
        "### Question 8 :"
      ],
      "metadata": {
        "id": "ZODUoRNrljdp"
      }
    },
    {
      "cell_type": "markdown",
      "source": [
        "Le code ci-dessous permet de charger 5 images sous forme de tensor et de les afficher. Que représente chacune de ces images ?\n",
        "\n",
        "\n",
        "Faire passer ces images dans le réseau. Que se passe-t-il ? ( Il se peut que cela provoque des erreurs ). Expliquer.\n",
        "\n",
        "**Attention :** Pour rappel, les images sont renormalisées avant de passer dans le réseau."
      ],
      "metadata": {
        "id": "qOpSAPAkm88P"
      }
    },
    {
      "cell_type": "markdown",
      "source": [
        "Si le code ci-dessous ne fonctionne pas, faire la question 8bis."
      ],
      "metadata": {
        "id": "GNxvFBAjJZ4z"
      }
    },
    {
      "cell_type": "code",
      "source": [
        "!git clone 'https://github.com/emilePi/Images_2024'"
      ],
      "metadata": {
        "id": "JKbj9KpodSxp",
        "colab": {
          "base_uri": "https://localhost:8080/"
        },
        "outputId": "845b2903-8b3a-4fd3-b0ca-a31c4e98f993"
      },
      "execution_count": null,
      "outputs": [
        {
          "output_type": "stream",
          "name": "stdout",
          "text": [
            "Cloning into 'Images_2024'...\n",
            "remote: Enumerating objects: 13, done.\u001b[K\n",
            "remote: Counting objects: 100% (13/13), done.\u001b[K\n",
            "remote: Compressing objects: 100% (13/13), done.\u001b[K\n",
            "remote: Total 13 (delta 2), reused 0 (delta 0), pack-reused 0\u001b[K\n",
            "Receiving objects: 100% (13/13), 6.57 KiB | 2.19 MiB/s, done.\n",
            "Resolving deltas: 100% (2/2), done.\n"
          ]
        }
      ]
    },
    {
      "cell_type": "code",
      "source": [
        "import io\n",
        "import requests\n",
        "from PIL import Image\n",
        "from torchvision.transforms.functional import to_tensor\n",
        "import pylab as plt\n",
        "import numpy as np\n",
        "\n",
        "\n",
        "img1 = to_tensor(Image.open('./Images_2024/coat.png'))\n",
        "\n",
        "img2 = to_tensor(Image.open('./Images_2024/cat.png'))\n",
        "\n",
        "img3 = to_tensor(Image.open('./Images_2024/horse.png'))\n",
        "\n",
        "img4 = to_tensor(Image.open('./Images_2024/MNIST.png'))\n",
        "\n",
        "img5 = to_tensor(Image.open('./Images_2024/red_shoes.png'))\n",
        "\n",
        "for img in [img1,img2,img3,img4,img5] :\n",
        "    npimg = img.numpy()\n",
        "    plt.imshow(np.transpose(npimg, (1, 2, 0)),cmap = 'gray')\n",
        "    plt.show()"
      ],
      "metadata": {
        "id": "DHBezKaHcOkk",
        "colab": {
          "base_uri": "https://localhost:8080/",
          "height": 1000
        },
        "outputId": "c4f9f4eb-11fd-4fc8-a21d-98cdcc713e4c"
      },
      "execution_count": null,
      "outputs": [
        {
          "output_type": "display_data",
          "data": {
            "text/plain": [
              "<Figure size 640x480 with 1 Axes>"
            ],
            "image/png": "[encoded data removed]"
          },
          "metadata": {}
        },
        {
          "output_type": "display_data",
          "data": {
            "text/plain": [
              "<Figure size 640x480 with 1 Axes>"
            ],
            "image/png": "[encoded data removed]"
          },
          "metadata": {}
        },
        {
          "output_type": "display_data",
          "data": {
            "text/plain": [
              "<Figure size 640x480 with 1 Axes>"
            ],
            "image/png": "[encoded data removed]"
          },
          "metadata": {}
        },
        {
          "output_type": "display_data",
          "data": {
            "text/plain": [
              "<Figure size 640x480 with 1 Axes>"
            ],
            "image/png": "[encoded data removed]"
          },
          "metadata": {}
        },
        {
          "output_type": "display_data",
          "data": {
            "text/plain": [
              "<Figure size 640x480 with 1 Axes>"
            ],
            "image/png": "[encoded data removed]"
          },
          "metadata": {}
        }
      ]
    },
    {
      "cell_type": "markdown",
      "source": [
        "La première image représente un manteau, ce qui est un objet de classification typique dans les datasets comme FashionMNIST.\n",
        "La 2eme image un chat. Ce n'est pas un objet typiquement présent dans des datasets comme FashionMNIST vu que cette dernière se concentre sur des articles de mode.\n",
        "La 3eme image un cheval, encore une fois, ce n'est pas un article de mode .\n",
        "La 4eme image est une image du chiffre 8, ce n'est pas un article de mode.\n",
        "La 5eme image est une chaussure rouge, ce qui est un objet de classification typique dans les datasets comme FashionMNIST."
      ],
      "metadata": {
        "id": "45tBSdkjhk-8"
      }
    },
    {
      "cell_type": "markdown",
      "source": [
        "Dans les cinq cellules qui suivent on va appliquer une transformation de normalisation sur les 5 images, les preparer pour notre modèle en ajoutant une dimension de lot à chaque image afin qu'elles puissent être traitées par notre modele. En effet ceci va transformer le tenseur de forme [C, H, W] en [1, C, H, W] où C est le nombre de canaux, et H, W sont la hauteur et la largeur. Cette opération est nécessaire car le modèle s'attend à recevoir les données sous forme de lots, même si le lot contient une seule image.\n",
        "\n",
        "Pour finir on affiche la sortie du modèle pour l'image donnée"
      ],
      "metadata": {
        "id": "JwOeoTkG6FGU"
      }
    },
    {
      "cell_type": "code",
      "source": [
        "transform = transforms.Normalize((0.5,), (0.5,))\n",
        "img1 = transform(img1)\n",
        "output1 = cnnet(img1.unsqueeze(0))  # Unsqueeze pour ajouter une dimension de lot\n",
        "print(output1)\n",
        "\n"
      ],
      "metadata": {
        "colab": {
          "base_uri": "https://localhost:8080/"
        },
        "id": "hJTn343uz-GY",
        "outputId": "1a125c9b-5fdb-4ca6-c4ed-9c27fae66cf5"
      },
      "execution_count": null,
      "outputs": [
        {
          "output_type": "stream",
          "name": "stdout",
          "text": [
            "tensor([[ -2.3256,  -2.8636,  27.3938,  -6.4538,  51.3815, -20.2744,  19.8819,\n",
            "         -37.6683, -12.4936, -24.3813]], grad_fn=<AddmmBackward0>)\n"
          ]
        }
      ]
    },
    {
      "cell_type": "markdown",
      "source": [
        "Les valeurs dans le tensor représentent les scores attribués à chacune des 10 classes.\n",
        "Les scores varient entre positifs et négatifs. Des scores plus élevés indiquent que le modèle prédit plus fortement la classe correspondante pour l'image donnée.\n",
        "\n",
        "Le score le plus élevé est 51.3815 pour la classe 4, ce qui suggère que  l'image a le plus de probabilité d'appartenir à cette classe d'après le modèle.\n",
        "\n",
        "Ce qui est correct car la classe 4 correspond à Coat . C'est une bonne prediction du modèle(réseau).\n",
        "\n",
        "La valeure négative la plus importante est -37.6683 pour la classe 7, ceci montre une confiance faible que l'image appartient à cette classe."
      ],
      "metadata": {
        "id": "trWv-ICm78Js"
      }
    },
    {
      "cell_type": "code",
      "source": [
        "img2 = transform(img2)\n",
        "output2 = cnnet(img2.unsqueeze(0))  # Unsqueeze pour ajouter une dimension de lot\n",
        "print(output2)"
      ],
      "metadata": {
        "colab": {
          "base_uri": "https://localhost:8080/"
        },
        "id": "z-QGMa6HBkp6",
        "outputId": "0610bc89-a988-4b23-fcfb-1bb5481817ab"
      },
      "execution_count": null,
      "outputs": [
        {
          "output_type": "stream",
          "name": "stdout",
          "text": [
            "tensor([[  6.1501,  -0.1545, -11.8508,   9.4047,  11.0961,  -5.4332,   5.9244,\n",
            "         -24.6383,  51.1027, -31.8881]], grad_fn=<AddmmBackward0>)\n"
          ]
        }
      ]
    },
    {
      "cell_type": "markdown",
      "source": [
        "Ici le score le plus élevé est 51.1027 pour la classe 8, ce qui suggère que le modèle penche vers cette classe comme prédiction.\n",
        "\n",
        "Ceci est bizzare car il predit un chat comme un sac. Cependant vu que \"chat\" n'est pas dans les datasets de FashionMNIST ça peut se comprendre.\n",
        "\n",
        "Ici le score le plus élevé negativement est -31.8881 pour la classe 9, ce qui suggère que le modèle penche le moins possible vers cette classe comme prédiction."
      ],
      "metadata": {
        "id": "Bl8ny0TS9MiL"
      }
    },
    {
      "cell_type": "code",
      "source": [
        "img3 = transform(img3)\n",
        "output3 = cnnet(img3.unsqueeze(0))  # Unsqueeze pour ajouter une dimension de lot\n",
        "print(output3)"
      ],
      "metadata": {
        "colab": {
          "base_uri": "https://localhost:8080/",
          "height": 321
        },
        "id": "xWoOkrg6Bx6g",
        "outputId": "19b80836-17fe-46cc-b37f-f3e100a0d591"
      },
      "execution_count": null,
      "outputs": [
        {
          "output_type": "error",
          "ename": "RuntimeError",
          "evalue": "mat1 and mat2 shapes cannot be multiplied (1x500 and 320x100)",
          "traceback": [
            "\u001b[0;31m---------------------------------------------------------------------------\u001b[0m",
            "\u001b[0;31mRuntimeError\u001b[0m                              Traceback (most recent call last)",
            "\u001b[0;32m<ipython-input-50-3d55ce0c10c0>\u001b[0m in \u001b[0;36m<cell line: 2>\u001b[0;34m()\u001b[0m\n\u001b[1;32m      1\u001b[0m \u001b[0mimg3\u001b[0m \u001b[0;34m=\u001b[0m \u001b[0mtransform\u001b[0m\u001b[0;34m(\u001b[0m\u001b[0mimg3\u001b[0m\u001b[0;34m)\u001b[0m\u001b[0;34m\u001b[0m\u001b[0;34m\u001b[0m\u001b[0m\n\u001b[0;32m----> 2\u001b[0;31m \u001b[0moutput3\u001b[0m \u001b[0;34m=\u001b[0m \u001b[0mcnnet\u001b[0m\u001b[0;34m(\u001b[0m\u001b[0mimg3\u001b[0m\u001b[0;34m.\u001b[0m\u001b[0munsqueeze\u001b[0m\u001b[0;34m(\u001b[0m\u001b[0;36m0\u001b[0m\u001b[0;34m)\u001b[0m\u001b[0;34m)\u001b[0m  \u001b[0;31m# Unsqueeze pour ajouter une dimension de lot\u001b[0m\u001b[0;34m\u001b[0m\u001b[0;34m\u001b[0m\u001b[0m\n\u001b[0m\u001b[1;32m      3\u001b[0m \u001b[0mprint\u001b[0m\u001b[0;34m(\u001b[0m\u001b[0moutput3\u001b[0m\u001b[0;34m)\u001b[0m\u001b[0;34m\u001b[0m\u001b[0;34m\u001b[0m\u001b[0m\n",
            "\u001b[0;32m/usr/local/lib/python3.10/dist-packages/torch/nn/modules/module.py\u001b[0m in \u001b[0;36m_wrapped_call_impl\u001b[0;34m(self, *args, **kwargs)\u001b[0m\n\u001b[1;32m   1509\u001b[0m             \u001b[0;32mreturn\u001b[0m \u001b[0mself\u001b[0m\u001b[0;34m.\u001b[0m\u001b[0m_compiled_call_impl\u001b[0m\u001b[0;34m(\u001b[0m\u001b[0;34m*\u001b[0m\u001b[0margs\u001b[0m\u001b[0;34m,\u001b[0m \u001b[0;34m**\u001b[0m\u001b[0mkwargs\u001b[0m\u001b[0;34m)\u001b[0m  \u001b[0;31m# type: ignore[misc]\u001b[0m\u001b[0;34m\u001b[0m\u001b[0;34m\u001b[0m\u001b[0m\n\u001b[1;32m   1510\u001b[0m         \u001b[0;32melse\u001b[0m\u001b[0;34m:\u001b[0m\u001b[0;34m\u001b[0m\u001b[0;34m\u001b[0m\u001b[0m\n\u001b[0;32m-> 1511\u001b[0;31m             \u001b[0;32mreturn\u001b[0m \u001b[0mself\u001b[0m\u001b[0;34m.\u001b[0m\u001b[0m_call_impl\u001b[0m\u001b[0;34m(\u001b[0m\u001b[0;34m*\u001b[0m\u001b[0margs\u001b[0m\u001b[0;34m,\u001b[0m \u001b[0;34m**\u001b[0m\u001b[0mkwargs\u001b[0m\u001b[0;34m)\u001b[0m\u001b[0;34m\u001b[0m\u001b[0;34m\u001b[0m\u001b[0m\n\u001b[0m\u001b[1;32m   1512\u001b[0m \u001b[0;34m\u001b[0m\u001b[0m\n\u001b[1;32m   1513\u001b[0m     \u001b[0;32mdef\u001b[0m \u001b[0m_call_impl\u001b[0m\u001b[0;34m(\u001b[0m\u001b[0mself\u001b[0m\u001b[0;34m,\u001b[0m \u001b[0;34m*\u001b[0m\u001b[0margs\u001b[0m\u001b[0;34m,\u001b[0m \u001b[0;34m**\u001b[0m\u001b[0mkwargs\u001b[0m\u001b[0;34m)\u001b[0m\u001b[0;34m:\u001b[0m\u001b[0;34m\u001b[0m\u001b[0;34m\u001b[0m\u001b[0m\n",
            "\u001b[0;32m/usr/local/lib/python3.10/dist-packages/torch/nn/modules/module.py\u001b[0m in \u001b[0;36m_call_impl\u001b[0;34m(self, *args, **kwargs)\u001b[0m\n\u001b[1;32m   1518\u001b[0m                 \u001b[0;32mor\u001b[0m \u001b[0m_global_backward_pre_hooks\u001b[0m \u001b[0;32mor\u001b[0m \u001b[0m_global_backward_hooks\u001b[0m\u001b[0;34m\u001b[0m\u001b[0;34m\u001b[0m\u001b[0m\n\u001b[1;32m   1519\u001b[0m                 or _global_forward_hooks or _global_forward_pre_hooks):\n\u001b[0;32m-> 1520\u001b[0;31m             \u001b[0;32mreturn\u001b[0m \u001b[0mforward_call\u001b[0m\u001b[0;34m(\u001b[0m\u001b[0;34m*\u001b[0m\u001b[0margs\u001b[0m\u001b[0;34m,\u001b[0m \u001b[0;34m**\u001b[0m\u001b[0mkwargs\u001b[0m\u001b[0;34m)\u001b[0m\u001b[0;34m\u001b[0m\u001b[0;34m\u001b[0m\u001b[0m\n\u001b[0m\u001b[1;32m   1521\u001b[0m \u001b[0;34m\u001b[0m\u001b[0m\n\u001b[1;32m   1522\u001b[0m         \u001b[0;32mtry\u001b[0m\u001b[0;34m:\u001b[0m\u001b[0;34m\u001b[0m\u001b[0;34m\u001b[0m\u001b[0m\n",
            "\u001b[0;32m<ipython-input-19-295ec91320a8>\u001b[0m in \u001b[0;36mforward\u001b[0;34m(self, x)\u001b[0m\n\u001b[1;32m     26\u001b[0m         \u001b[0mx\u001b[0m \u001b[0;34m=\u001b[0m \u001b[0mtorch\u001b[0m\u001b[0;34m.\u001b[0m\u001b[0mflatten\u001b[0m\u001b[0;34m(\u001b[0m\u001b[0mx\u001b[0m\u001b[0;34m,\u001b[0m \u001b[0;36m1\u001b[0m\u001b[0;34m)\u001b[0m \u001b[0;31m# flatten toutes les dimensions à l'exception de la dimension du batch\u001b[0m\u001b[0;34m\u001b[0m\u001b[0;34m\u001b[0m\u001b[0m\n\u001b[1;32m     27\u001b[0m         \u001b[0;31m# c'est pour pouvoir faire l'operation matrix-vecteur en faisant un reshape (mettre toutes les colonnes dans une seule colonne)\u001b[0m\u001b[0;34m\u001b[0m\u001b[0;34m\u001b[0m\u001b[0m\n\u001b[0;32m---> 28\u001b[0;31m         \u001b[0mx\u001b[0m \u001b[0;34m=\u001b[0m \u001b[0mF\u001b[0m\u001b[0;34m.\u001b[0m\u001b[0mrelu\u001b[0m\u001b[0;34m(\u001b[0m\u001b[0mself\u001b[0m\u001b[0;34m.\u001b[0m\u001b[0mfc1\u001b[0m\u001b[0;34m(\u001b[0m\u001b[0mx\u001b[0m\u001b[0;34m)\u001b[0m\u001b[0;34m)\u001b[0m\u001b[0;34m\u001b[0m\u001b[0;34m\u001b[0m\u001b[0m\n\u001b[0m\u001b[1;32m     29\u001b[0m         \u001b[0mx\u001b[0m \u001b[0;34m=\u001b[0m \u001b[0mF\u001b[0m\u001b[0;34m.\u001b[0m\u001b[0mrelu\u001b[0m\u001b[0;34m(\u001b[0m\u001b[0mself\u001b[0m\u001b[0;34m.\u001b[0m\u001b[0mfc2\u001b[0m\u001b[0;34m(\u001b[0m\u001b[0mx\u001b[0m\u001b[0;34m)\u001b[0m\u001b[0;34m)\u001b[0m\u001b[0;34m\u001b[0m\u001b[0;34m\u001b[0m\u001b[0m\n\u001b[1;32m     30\u001b[0m         \u001b[0mx\u001b[0m \u001b[0;34m=\u001b[0m \u001b[0mself\u001b[0m\u001b[0;34m.\u001b[0m\u001b[0mfc3\u001b[0m\u001b[0;34m(\u001b[0m\u001b[0mx\u001b[0m\u001b[0;34m)\u001b[0m\u001b[0;34m\u001b[0m\u001b[0;34m\u001b[0m\u001b[0m\n",
            "\u001b[0;32m/usr/local/lib/python3.10/dist-packages/torch/nn/modules/module.py\u001b[0m in \u001b[0;36m_wrapped_call_impl\u001b[0;34m(self, *args, **kwargs)\u001b[0m\n\u001b[1;32m   1509\u001b[0m             \u001b[0;32mreturn\u001b[0m \u001b[0mself\u001b[0m\u001b[0;34m.\u001b[0m\u001b[0m_compiled_call_impl\u001b[0m\u001b[0;34m(\u001b[0m\u001b[0;34m*\u001b[0m\u001b[0margs\u001b[0m\u001b[0;34m,\u001b[0m \u001b[0;34m**\u001b[0m\u001b[0mkwargs\u001b[0m\u001b[0;34m)\u001b[0m  \u001b[0;31m# type: ignore[misc]\u001b[0m\u001b[0;34m\u001b[0m\u001b[0;34m\u001b[0m\u001b[0m\n\u001b[1;32m   1510\u001b[0m         \u001b[0;32melse\u001b[0m\u001b[0;34m:\u001b[0m\u001b[0;34m\u001b[0m\u001b[0;34m\u001b[0m\u001b[0m\n\u001b[0;32m-> 1511\u001b[0;31m             \u001b[0;32mreturn\u001b[0m \u001b[0mself\u001b[0m\u001b[0;34m.\u001b[0m\u001b[0m_call_impl\u001b[0m\u001b[0;34m(\u001b[0m\u001b[0;34m*\u001b[0m\u001b[0margs\u001b[0m\u001b[0;34m,\u001b[0m \u001b[0;34m**\u001b[0m\u001b[0mkwargs\u001b[0m\u001b[0;34m)\u001b[0m\u001b[0;34m\u001b[0m\u001b[0;34m\u001b[0m\u001b[0m\n\u001b[0m\u001b[1;32m   1512\u001b[0m \u001b[0;34m\u001b[0m\u001b[0m\n\u001b[1;32m   1513\u001b[0m     \u001b[0;32mdef\u001b[0m \u001b[0m_call_impl\u001b[0m\u001b[0;34m(\u001b[0m\u001b[0mself\u001b[0m\u001b[0;34m,\u001b[0m \u001b[0;34m*\u001b[0m\u001b[0margs\u001b[0m\u001b[0;34m,\u001b[0m \u001b[0;34m**\u001b[0m\u001b[0mkwargs\u001b[0m\u001b[0;34m)\u001b[0m\u001b[0;34m:\u001b[0m\u001b[0;34m\u001b[0m\u001b[0;34m\u001b[0m\u001b[0m\n",
            "\u001b[0;32m/usr/local/lib/python3.10/dist-packages/torch/nn/modules/module.py\u001b[0m in \u001b[0;36m_call_impl\u001b[0;34m(self, *args, **kwargs)\u001b[0m\n\u001b[1;32m   1518\u001b[0m                 \u001b[0;32mor\u001b[0m \u001b[0m_global_backward_pre_hooks\u001b[0m \u001b[0;32mor\u001b[0m \u001b[0m_global_backward_hooks\u001b[0m\u001b[0;34m\u001b[0m\u001b[0;34m\u001b[0m\u001b[0m\n\u001b[1;32m   1519\u001b[0m                 or _global_forward_hooks or _global_forward_pre_hooks):\n\u001b[0;32m-> 1520\u001b[0;31m             \u001b[0;32mreturn\u001b[0m \u001b[0mforward_call\u001b[0m\u001b[0;34m(\u001b[0m\u001b[0;34m*\u001b[0m\u001b[0margs\u001b[0m\u001b[0;34m,\u001b[0m \u001b[0;34m**\u001b[0m\u001b[0mkwargs\u001b[0m\u001b[0;34m)\u001b[0m\u001b[0;34m\u001b[0m\u001b[0;34m\u001b[0m\u001b[0m\n\u001b[0m\u001b[1;32m   1521\u001b[0m \u001b[0;34m\u001b[0m\u001b[0m\n\u001b[1;32m   1522\u001b[0m         \u001b[0;32mtry\u001b[0m\u001b[0;34m:\u001b[0m\u001b[0;34m\u001b[0m\u001b[0;34m\u001b[0m\u001b[0m\n",
            "\u001b[0;32m/usr/local/lib/python3.10/dist-packages/torch/nn/modules/linear.py\u001b[0m in \u001b[0;36mforward\u001b[0;34m(self, input)\u001b[0m\n\u001b[1;32m    114\u001b[0m \u001b[0;34m\u001b[0m\u001b[0m\n\u001b[1;32m    115\u001b[0m     \u001b[0;32mdef\u001b[0m \u001b[0mforward\u001b[0m\u001b[0;34m(\u001b[0m\u001b[0mself\u001b[0m\u001b[0;34m,\u001b[0m \u001b[0minput\u001b[0m\u001b[0;34m:\u001b[0m \u001b[0mTensor\u001b[0m\u001b[0;34m)\u001b[0m \u001b[0;34m->\u001b[0m \u001b[0mTensor\u001b[0m\u001b[0;34m:\u001b[0m\u001b[0;34m\u001b[0m\u001b[0;34m\u001b[0m\u001b[0m\n\u001b[0;32m--> 116\u001b[0;31m         \u001b[0;32mreturn\u001b[0m \u001b[0mF\u001b[0m\u001b[0;34m.\u001b[0m\u001b[0mlinear\u001b[0m\u001b[0;34m(\u001b[0m\u001b[0minput\u001b[0m\u001b[0;34m,\u001b[0m \u001b[0mself\u001b[0m\u001b[0;34m.\u001b[0m\u001b[0mweight\u001b[0m\u001b[0;34m,\u001b[0m \u001b[0mself\u001b[0m\u001b[0;34m.\u001b[0m\u001b[0mbias\u001b[0m\u001b[0;34m)\u001b[0m\u001b[0;34m\u001b[0m\u001b[0;34m\u001b[0m\u001b[0m\n\u001b[0m\u001b[1;32m    117\u001b[0m \u001b[0;34m\u001b[0m\u001b[0m\n\u001b[1;32m    118\u001b[0m     \u001b[0;32mdef\u001b[0m \u001b[0mextra_repr\u001b[0m\u001b[0;34m(\u001b[0m\u001b[0mself\u001b[0m\u001b[0;34m)\u001b[0m \u001b[0;34m->\u001b[0m \u001b[0mstr\u001b[0m\u001b[0;34m:\u001b[0m\u001b[0;34m\u001b[0m\u001b[0;34m\u001b[0m\u001b[0m\n",
            "\u001b[0;31mRuntimeError\u001b[0m: mat1 and mat2 shapes cannot be multiplied (1x500 and 320x100)"
          ]
        }
      ]
    },
    {
      "cell_type": "markdown",
      "source": [
        "Effectivement on nous indique une erreur au niveau de l'image 3. Le problème est situé au niveau de la dimension dans le réseau . La dimension des données à la sortie des couches de convolution et de pooling ne correspond pas à la dimension attendue par la première couche linéaire (fc1).\n",
        "En effet le réseau CNNet a une taille d'entrée qui, après les convolutions et les poolings, doit correspondre exactement à la taille attendue par la première couche linéaire (320 dans ce cas, pour 20 * 4 * 4). Si les images ne sont pas de la taille appropriée avant les convolutions, la taille obtenue après toutes les transformations ne sera pas 4*4."
      ],
      "metadata": {
        "id": "RwyzFzMHCb5Y"
      }
    },
    {
      "cell_type": "code",
      "source": [
        "img4 = transform(img4)\n",
        "output4 = cnnet(img4.unsqueeze(0))  # Unsqueeze pour ajouter une dimension de lot\n",
        "print(output4)"
      ],
      "metadata": {
        "colab": {
          "base_uri": "https://localhost:8080/"
        },
        "id": "AFArP7GwB2Cb",
        "outputId": "ff3d80d6-83fe-4aee-97f1-f01d8a04cc5e"
      },
      "execution_count": null,
      "outputs": [
        {
          "output_type": "stream",
          "name": "stdout",
          "text": [
            "tensor([[ -5.9030,   3.4914, -12.8454,   5.4639, -11.1685,  18.7174,  -7.3431,\n",
            "          14.4026,  -4.4707,   1.1338]], grad_fn=<AddmmBackward0>)\n"
          ]
        }
      ]
    },
    {
      "cell_type": "markdown",
      "source": [
        "Ici le score le plus élevé est 18.7174 pour la classe 5, ce qui suggère que le modèle penche legerement vers cette classe comme prédiction. Ici il y'a moins de confiance par rapport aux 3 premiers.\n",
        "\n",
        "Ce qui est correct car la classe 5 correspond à Sandal . C'est une bonne prediction du modèle(réseau).\n",
        "\n",
        "Ici le score le plus élevé negativement est  -12.8454 pour la classe 9, ce qui suggère que le modèle penche le moins possible vers cette classe comme prédiction."
      ],
      "metadata": {
        "id": "eeA-m8lm9_87"
      }
    },
    {
      "cell_type": "code",
      "source": [
        "img5 = transform(img5)\n",
        "output5 = cnnet(img5.unsqueeze(0))  # Unsqueeze pour ajouter une dimension de lot\n",
        "print(output5)"
      ],
      "metadata": {
        "colab": {
          "base_uri": "https://localhost:8080/",
          "height": 321
        },
        "id": "H5To2QhrB9Vf",
        "outputId": "f5db1b40-53e3-42e3-a9f7-88ad6f4f8ca0"
      },
      "execution_count": null,
      "outputs": [
        {
          "output_type": "error",
          "ename": "RuntimeError",
          "evalue": "Given groups=1, weight of size [12, 1, 5, 5], expected input[1, 3, 28, 28] to have 1 channels, but got 3 channels instead",
          "traceback": [
            "\u001b[0;31m---------------------------------------------------------------------------\u001b[0m",
            "\u001b[0;31mRuntimeError\u001b[0m                              Traceback (most recent call last)",
            "\u001b[0;32m<ipython-input-52-8d763064b2fe>\u001b[0m in \u001b[0;36m<cell line: 2>\u001b[0;34m()\u001b[0m\n\u001b[1;32m      1\u001b[0m \u001b[0mimg5\u001b[0m \u001b[0;34m=\u001b[0m \u001b[0mtransform\u001b[0m\u001b[0;34m(\u001b[0m\u001b[0mimg5\u001b[0m\u001b[0;34m)\u001b[0m\u001b[0;34m\u001b[0m\u001b[0;34m\u001b[0m\u001b[0m\n\u001b[0;32m----> 2\u001b[0;31m \u001b[0moutput5\u001b[0m \u001b[0;34m=\u001b[0m \u001b[0mcnnet\u001b[0m\u001b[0;34m(\u001b[0m\u001b[0mimg5\u001b[0m\u001b[0;34m.\u001b[0m\u001b[0munsqueeze\u001b[0m\u001b[0;34m(\u001b[0m\u001b[0;36m0\u001b[0m\u001b[0;34m)\u001b[0m\u001b[0;34m)\u001b[0m  \u001b[0;31m# Unsqueeze pour ajouter une dimension de lot\u001b[0m\u001b[0;34m\u001b[0m\u001b[0;34m\u001b[0m\u001b[0m\n\u001b[0m\u001b[1;32m      3\u001b[0m \u001b[0mprint\u001b[0m\u001b[0;34m(\u001b[0m\u001b[0moutput5\u001b[0m\u001b[0;34m)\u001b[0m\u001b[0;34m\u001b[0m\u001b[0;34m\u001b[0m\u001b[0m\n",
            "\u001b[0;32m/usr/local/lib/python3.10/dist-packages/torch/nn/modules/module.py\u001b[0m in \u001b[0;36m_wrapped_call_impl\u001b[0;34m(self, *args, **kwargs)\u001b[0m\n\u001b[1;32m   1509\u001b[0m             \u001b[0;32mreturn\u001b[0m \u001b[0mself\u001b[0m\u001b[0;34m.\u001b[0m\u001b[0m_compiled_call_impl\u001b[0m\u001b[0;34m(\u001b[0m\u001b[0;34m*\u001b[0m\u001b[0margs\u001b[0m\u001b[0;34m,\u001b[0m \u001b[0;34m**\u001b[0m\u001b[0mkwargs\u001b[0m\u001b[0;34m)\u001b[0m  \u001b[0;31m# type: ignore[misc]\u001b[0m\u001b[0;34m\u001b[0m\u001b[0;34m\u001b[0m\u001b[0m\n\u001b[1;32m   1510\u001b[0m         \u001b[0;32melse\u001b[0m\u001b[0;34m:\u001b[0m\u001b[0;34m\u001b[0m\u001b[0;34m\u001b[0m\u001b[0m\n\u001b[0;32m-> 1511\u001b[0;31m             \u001b[0;32mreturn\u001b[0m \u001b[0mself\u001b[0m\u001b[0;34m.\u001b[0m\u001b[0m_call_impl\u001b[0m\u001b[0;34m(\u001b[0m\u001b[0;34m*\u001b[0m\u001b[0margs\u001b[0m\u001b[0;34m,\u001b[0m \u001b[0;34m**\u001b[0m\u001b[0mkwargs\u001b[0m\u001b[0;34m)\u001b[0m\u001b[0;34m\u001b[0m\u001b[0;34m\u001b[0m\u001b[0m\n\u001b[0m\u001b[1;32m   1512\u001b[0m \u001b[0;34m\u001b[0m\u001b[0m\n\u001b[1;32m   1513\u001b[0m     \u001b[0;32mdef\u001b[0m \u001b[0m_call_impl\u001b[0m\u001b[0;34m(\u001b[0m\u001b[0mself\u001b[0m\u001b[0;34m,\u001b[0m \u001b[0;34m*\u001b[0m\u001b[0margs\u001b[0m\u001b[0;34m,\u001b[0m \u001b[0;34m**\u001b[0m\u001b[0mkwargs\u001b[0m\u001b[0;34m)\u001b[0m\u001b[0;34m:\u001b[0m\u001b[0;34m\u001b[0m\u001b[0;34m\u001b[0m\u001b[0m\n",
            "\u001b[0;32m/usr/local/lib/python3.10/dist-packages/torch/nn/modules/module.py\u001b[0m in \u001b[0;36m_call_impl\u001b[0;34m(self, *args, **kwargs)\u001b[0m\n\u001b[1;32m   1518\u001b[0m                 \u001b[0;32mor\u001b[0m \u001b[0m_global_backward_pre_hooks\u001b[0m \u001b[0;32mor\u001b[0m \u001b[0m_global_backward_hooks\u001b[0m\u001b[0;34m\u001b[0m\u001b[0;34m\u001b[0m\u001b[0m\n\u001b[1;32m   1519\u001b[0m                 or _global_forward_hooks or _global_forward_pre_hooks):\n\u001b[0;32m-> 1520\u001b[0;31m             \u001b[0;32mreturn\u001b[0m \u001b[0mforward_call\u001b[0m\u001b[0;34m(\u001b[0m\u001b[0;34m*\u001b[0m\u001b[0margs\u001b[0m\u001b[0;34m,\u001b[0m \u001b[0;34m**\u001b[0m\u001b[0mkwargs\u001b[0m\u001b[0;34m)\u001b[0m\u001b[0;34m\u001b[0m\u001b[0;34m\u001b[0m\u001b[0m\n\u001b[0m\u001b[1;32m   1521\u001b[0m \u001b[0;34m\u001b[0m\u001b[0m\n\u001b[1;32m   1522\u001b[0m         \u001b[0;32mtry\u001b[0m\u001b[0;34m:\u001b[0m\u001b[0;34m\u001b[0m\u001b[0;34m\u001b[0m\u001b[0m\n",
            "\u001b[0;32m<ipython-input-19-295ec91320a8>\u001b[0m in \u001b[0;36mforward\u001b[0;34m(self, x)\u001b[0m\n\u001b[1;32m     19\u001b[0m     \u001b[0;32mdef\u001b[0m \u001b[0mforward\u001b[0m\u001b[0;34m(\u001b[0m\u001b[0mself\u001b[0m\u001b[0;34m,\u001b[0m \u001b[0mx\u001b[0m\u001b[0;34m)\u001b[0m\u001b[0;34m:\u001b[0m\u001b[0;34m\u001b[0m\u001b[0;34m\u001b[0m\u001b[0m\n\u001b[1;32m     20\u001b[0m         \u001b[0;31m# Max pooling over a (2, 2) window # max  pooling pour reduire la taille\u001b[0m\u001b[0;34m\u001b[0m\u001b[0;34m\u001b[0m\u001b[0m\n\u001b[0;32m---> 21\u001b[0;31m         \u001b[0mx\u001b[0m\u001b[0;34m=\u001b[0m\u001b[0mself\u001b[0m\u001b[0;34m.\u001b[0m\u001b[0mconv1\u001b[0m\u001b[0;34m(\u001b[0m\u001b[0mx\u001b[0m\u001b[0;34m)\u001b[0m\u001b[0;34m\u001b[0m\u001b[0;34m\u001b[0m\u001b[0m\n\u001b[0m\u001b[1;32m     22\u001b[0m         \u001b[0mx\u001b[0m\u001b[0;34m=\u001b[0m\u001b[0mF\u001b[0m\u001b[0;34m.\u001b[0m\u001b[0mrelu\u001b[0m\u001b[0;34m(\u001b[0m\u001b[0mx\u001b[0m\u001b[0;34m)\u001b[0m\u001b[0;34m\u001b[0m\u001b[0;34m\u001b[0m\u001b[0m\n\u001b[1;32m     23\u001b[0m         \u001b[0mx\u001b[0m\u001b[0;34m=\u001b[0m\u001b[0mF\u001b[0m\u001b[0;34m.\u001b[0m\u001b[0mmax_pool2d\u001b[0m\u001b[0;34m(\u001b[0m\u001b[0mx\u001b[0m\u001b[0;34m,\u001b[0m\u001b[0;34m(\u001b[0m\u001b[0;36m2\u001b[0m\u001b[0;34m,\u001b[0m\u001b[0;36m2\u001b[0m\u001b[0;34m)\u001b[0m\u001b[0;34m)\u001b[0m\u001b[0;34m\u001b[0m\u001b[0;34m\u001b[0m\u001b[0m\n",
            "\u001b[0;32m/usr/local/lib/python3.10/dist-packages/torch/nn/modules/module.py\u001b[0m in \u001b[0;36m_wrapped_call_impl\u001b[0;34m(self, *args, **kwargs)\u001b[0m\n\u001b[1;32m   1509\u001b[0m             \u001b[0;32mreturn\u001b[0m \u001b[0mself\u001b[0m\u001b[0;34m.\u001b[0m\u001b[0m_compiled_call_impl\u001b[0m\u001b[0;34m(\u001b[0m\u001b[0;34m*\u001b[0m\u001b[0margs\u001b[0m\u001b[0;34m,\u001b[0m \u001b[0;34m**\u001b[0m\u001b[0mkwargs\u001b[0m\u001b[0;34m)\u001b[0m  \u001b[0;31m# type: ignore[misc]\u001b[0m\u001b[0;34m\u001b[0m\u001b[0;34m\u001b[0m\u001b[0m\n\u001b[1;32m   1510\u001b[0m         \u001b[0;32melse\u001b[0m\u001b[0;34m:\u001b[0m\u001b[0;34m\u001b[0m\u001b[0;34m\u001b[0m\u001b[0m\n\u001b[0;32m-> 1511\u001b[0;31m             \u001b[0;32mreturn\u001b[0m \u001b[0mself\u001b[0m\u001b[0;34m.\u001b[0m\u001b[0m_call_impl\u001b[0m\u001b[0;34m(\u001b[0m\u001b[0;34m*\u001b[0m\u001b[0margs\u001b[0m\u001b[0;34m,\u001b[0m \u001b[0;34m**\u001b[0m\u001b[0mkwargs\u001b[0m\u001b[0;34m)\u001b[0m\u001b[0;34m\u001b[0m\u001b[0;34m\u001b[0m\u001b[0m\n\u001b[0m\u001b[1;32m   1512\u001b[0m \u001b[0;34m\u001b[0m\u001b[0m\n\u001b[1;32m   1513\u001b[0m     \u001b[0;32mdef\u001b[0m \u001b[0m_call_impl\u001b[0m\u001b[0;34m(\u001b[0m\u001b[0mself\u001b[0m\u001b[0;34m,\u001b[0m \u001b[0;34m*\u001b[0m\u001b[0margs\u001b[0m\u001b[0;34m,\u001b[0m \u001b[0;34m**\u001b[0m\u001b[0mkwargs\u001b[0m\u001b[0;34m)\u001b[0m\u001b[0;34m:\u001b[0m\u001b[0;34m\u001b[0m\u001b[0;34m\u001b[0m\u001b[0m\n",
            "\u001b[0;32m/usr/local/lib/python3.10/dist-packages/torch/nn/modules/module.py\u001b[0m in \u001b[0;36m_call_impl\u001b[0;34m(self, *args, **kwargs)\u001b[0m\n\u001b[1;32m   1518\u001b[0m                 \u001b[0;32mor\u001b[0m \u001b[0m_global_backward_pre_hooks\u001b[0m \u001b[0;32mor\u001b[0m \u001b[0m_global_backward_hooks\u001b[0m\u001b[0;34m\u001b[0m\u001b[0;34m\u001b[0m\u001b[0m\n\u001b[1;32m   1519\u001b[0m                 or _global_forward_hooks or _global_forward_pre_hooks):\n\u001b[0;32m-> 1520\u001b[0;31m             \u001b[0;32mreturn\u001b[0m \u001b[0mforward_call\u001b[0m\u001b[0;34m(\u001b[0m\u001b[0;34m*\u001b[0m\u001b[0margs\u001b[0m\u001b[0;34m,\u001b[0m \u001b[0;34m**\u001b[0m\u001b[0mkwargs\u001b[0m\u001b[0;34m)\u001b[0m\u001b[0;34m\u001b[0m\u001b[0;34m\u001b[0m\u001b[0m\n\u001b[0m\u001b[1;32m   1521\u001b[0m \u001b[0;34m\u001b[0m\u001b[0m\n\u001b[1;32m   1522\u001b[0m         \u001b[0;32mtry\u001b[0m\u001b[0;34m:\u001b[0m\u001b[0;34m\u001b[0m\u001b[0;34m\u001b[0m\u001b[0m\n",
            "\u001b[0;32m/usr/local/lib/python3.10/dist-packages/torch/nn/modules/conv.py\u001b[0m in \u001b[0;36mforward\u001b[0;34m(self, input)\u001b[0m\n\u001b[1;32m    458\u001b[0m \u001b[0;34m\u001b[0m\u001b[0m\n\u001b[1;32m    459\u001b[0m     \u001b[0;32mdef\u001b[0m \u001b[0mforward\u001b[0m\u001b[0;34m(\u001b[0m\u001b[0mself\u001b[0m\u001b[0;34m,\u001b[0m \u001b[0minput\u001b[0m\u001b[0;34m:\u001b[0m \u001b[0mTensor\u001b[0m\u001b[0;34m)\u001b[0m \u001b[0;34m->\u001b[0m \u001b[0mTensor\u001b[0m\u001b[0;34m:\u001b[0m\u001b[0;34m\u001b[0m\u001b[0;34m\u001b[0m\u001b[0m\n\u001b[0;32m--> 460\u001b[0;31m         \u001b[0;32mreturn\u001b[0m \u001b[0mself\u001b[0m\u001b[0;34m.\u001b[0m\u001b[0m_conv_forward\u001b[0m\u001b[0;34m(\u001b[0m\u001b[0minput\u001b[0m\u001b[0;34m,\u001b[0m \u001b[0mself\u001b[0m\u001b[0;34m.\u001b[0m\u001b[0mweight\u001b[0m\u001b[0;34m,\u001b[0m \u001b[0mself\u001b[0m\u001b[0;34m.\u001b[0m\u001b[0mbias\u001b[0m\u001b[0;34m)\u001b[0m\u001b[0;34m\u001b[0m\u001b[0;34m\u001b[0m\u001b[0m\n\u001b[0m\u001b[1;32m    461\u001b[0m \u001b[0;34m\u001b[0m\u001b[0m\n\u001b[1;32m    462\u001b[0m \u001b[0;32mclass\u001b[0m \u001b[0mConv3d\u001b[0m\u001b[0;34m(\u001b[0m\u001b[0m_ConvNd\u001b[0m\u001b[0;34m)\u001b[0m\u001b[0;34m:\u001b[0m\u001b[0;34m\u001b[0m\u001b[0;34m\u001b[0m\u001b[0m\n",
            "\u001b[0;32m/usr/local/lib/python3.10/dist-packages/torch/nn/modules/conv.py\u001b[0m in \u001b[0;36m_conv_forward\u001b[0;34m(self, input, weight, bias)\u001b[0m\n\u001b[1;32m    454\u001b[0m                             \u001b[0mweight\u001b[0m\u001b[0;34m,\u001b[0m \u001b[0mbias\u001b[0m\u001b[0;34m,\u001b[0m \u001b[0mself\u001b[0m\u001b[0;34m.\u001b[0m\u001b[0mstride\u001b[0m\u001b[0;34m,\u001b[0m\u001b[0;34m\u001b[0m\u001b[0;34m\u001b[0m\u001b[0m\n\u001b[1;32m    455\u001b[0m                             _pair(0), self.dilation, self.groups)\n\u001b[0;32m--> 456\u001b[0;31m         return F.conv2d(input, weight, bias, self.stride,\n\u001b[0m\u001b[1;32m    457\u001b[0m                         self.padding, self.dilation, self.groups)\n\u001b[1;32m    458\u001b[0m \u001b[0;34m\u001b[0m\u001b[0m\n",
            "\u001b[0;31mRuntimeError\u001b[0m: Given groups=1, weight of size [12, 1, 5, 5], expected input[1, 3, 28, 28] to have 1 channels, but got 3 channels instead"
          ]
        }
      ]
    },
    {
      "cell_type": "markdown",
      "source": [
        "L'erreur indique un problème avec le nombre de canaux d'entrée de l'image 5 par rapport aux attentes du premier module convolutionnel dans le réseau CNNet.\n",
        "En effet le réseau CNNet est conçu pour traiter des images avec 1 canal d'entrée (images en niveaux de gris), mais l'image 5 est en RGB (3 canaux), ce qui provoque une erreur de dimension lors de la tentative de les faire passer dans le réseau.\n"
      ],
      "metadata": {
        "id": "02rbFkWZF1X3"
      }
    },
    {
      "cell_type": "markdown",
      "source": [
        "### Question 8 bis"
      ],
      "metadata": {
        "id": "9bnk6r5gJjEj"
      }
    },
    {
      "cell_type": "markdown",
      "source": [
        "*Cette question n'est pas à faire si le code de la question précédente a fonctionné.*"
      ],
      "metadata": {
        "id": "OU-ugPL6KLN8"
      }
    },
    {
      "cell_type": "markdown",
      "source": [
        "Suivre la procédure suivante :\n",
        "\n",
        "1. Téléchargez les images à ce lien : https://github.com/emilePi/Images_2024    \n",
        "2. Enregistrez-la dans le dossier de votre choix\n",
        "3. Compléter la cellule ci-dessous en mettant PATH= \"le chemin vers le dossier précédent\". (Par exemple PATH = 'C:/Documents/Apprentissage pour l'image/Cours/Projet/')\n",
        "\n",
        "En cas de difficulté, n'hésitez pas à me contacter."
      ],
      "metadata": {
        "id": "1UXUYfMDJm5H"
      }
    },
    {
      "cell_type": "markdown",
      "source": [
        "Le code ci-dessous permet de charger 5 images sous forme de tensor et de les afficher. Que représente chacune de ces images ?\n",
        "\n",
        "\n",
        "Faire passer ces images dans le réseau. Que se passe-t-il ? ( Il se peut que cela provoque des erreurs ). Expliquer.\n",
        "\n",
        "**Attention :** Pour rappel, les images sont renormalisées avant de passer dans le réseau."
      ],
      "metadata": {
        "id": "GIBTYFn5J517"
      }
    },
    {
      "cell_type": "code",
      "source": [
        "PATH = '/content/Images_2024'\n",
        "\n",
        "import os\n",
        "os.chdir(PATH)\n",
        "\n",
        "import io\n",
        "import requests\n",
        "from PIL import Image\n",
        "from torchvision.transforms.functional import to_tensor\n",
        "import pylab as plt\n",
        "import numpy as np\n",
        "\n",
        "img1 = to_tensor(Image.open('coat.png'))\n",
        "\n",
        "img2 = to_tensor(Image.open('cat.png'))\n",
        "\n",
        "img3 = to_tensor(Image.open('horse.png'))\n",
        "\n",
        "img4 = to_tensor(Image.open('MNIST.png'))\n",
        "\n",
        "img5 = to_tensor(Image.open('red_shoes.png'))\n",
        "\n",
        "for img in [img1,img2,img3,img4,img5] :\n",
        "    npimg = img.numpy()\n",
        "    plt.imshow(np.transpose(npimg, (1, 2, 0)),cmap = 'gray')\n",
        "    plt.show()"
      ],
      "metadata": {
        "id": "rDB4WksnJkOg"
      },
      "execution_count": null,
      "outputs": []
    },
    {
      "cell_type": "markdown",
      "metadata": {
        "id": "JnsGeSQKLjeB"
      },
      "source": [
        "## Comparaison avec un réseau à une couche cachée"
      ]
    },
    {
      "cell_type": "markdown",
      "metadata": {
        "id": "qCREf5WDLyr9"
      },
      "source": [
        "Pour finir nous allons comparer la performance du réseau CNN avec un réseau simple à une seule couche cachée.\n",
        "\n",
        "On va utiliser l'architecture suivante :\n",
        "\n",
        "* Une couche linéaire avec dimension de sortie 300, suivie d'une activation  ReLU.\n",
        "* Une couche linéaire finale permettant la classification."
      ]
    },
    {
      "cell_type": "markdown",
      "metadata": {
        "id": "lAu4vfJmMYc5"
      },
      "source": [
        "###Question 9 :\n",
        "Définir une class `MLP` qui implémente le modèle décrit ci-dessus.\n",
        "\n",
        "Définir un réseau mlp = MLP() et tester sa fonction `forward` sur un batch du `trainset`.\n",
        "\n",
        "Afficher quel est le nombre de paramètres du réseau `mlp`. Commenter."
      ]
    },
    {
      "cell_type": "markdown",
      "source": [
        "La cellule de code ci-dessous contient un script qui définit une classe MLP qui hérite de nn.Module pour créer un modèle de perceptron multicouches simple adapté à la classification d'images de FashionMNIST.\n",
        "On declare les couches du reseau en utilisant l'architecture suivante :\n",
        "\n",
        "\n",
        "*   Une couche linéaire avec dimension de sortie 300, suivie d'une activation ReLU.\n",
        "*  Une couche linéaire finale permettant la classification.\n",
        "\n",
        "Ainsi on prendra un vecteur d'entrée de taille 784 (correspondant à une image de FashionMNIST de 28x28 pixels aplatie) et on le transforme en un vecteur de taille 300 pour la première couche entièrement connectée (ou linéaire).\n",
        "Pour la  deuxième couche entièrement connectée (ou linéaire) on prendra le vecteur de 300 de la première couche et le réduire à 10 sorties, correspondant aux 10 classes possibles dans le dataset FashionMNIST. Par la suite on definira la fonction forward en s'inspirant du code vu en TP.\n",
        "\n",
        "J'ai commencé directement avec un aplatissement vu qu'on ne peut pas avoir de couches linéaires sans des matrices de dimension 1 de toute façon.\n",
        "\n",
        "Et pour finir on creera une instance de MLP rendant le modèle prêt à être entraîné ou utilisé pour des prédictions.\n",
        "\n"
      ],
      "metadata": {
        "id": "ZlvPmwLe-k7b"
      }
    },
    {
      "cell_type": "code",
      "source": [
        "import torch\n",
        "import torch.nn as nn\n",
        "import torch.nn.functional as F\n",
        "\n",
        "class MLP(nn.Module):\n",
        "    def __init__(self):\n",
        "        super(MLP, self).__init__()\n",
        "        # Correspondant à une image 28x28 de FashionMNIST, aplatie en un vecteur 784\n",
        "        self.fc1 = nn.Linear(28*28, 300)\n",
        "        self.fc2 = nn.Linear(300, 10)  # 10 classes pour FashionMNIST\n",
        "\n",
        "    def forward(self, x):\n",
        "       x = torch.flatten(x, 1)\n",
        "       x = F.relu(self.fc1(x))\n",
        "       x = self.fc2(x)\n",
        "       return x\n",
        "\n",
        "\n",
        "mlp =MLP()"
      ],
      "metadata": {
        "id": "0ModGE9zl0rR"
      },
      "execution_count": null,
      "outputs": []
    },
    {
      "cell_type": "markdown",
      "source": [
        "# Testons sa fonction forward sur un batch du trainset."
      ],
      "metadata": {
        "id": "iydWwmGyB0SJ"
      }
    },
    {
      "cell_type": "markdown",
      "source": [
        "Comme on a fait avec le reseau CNNet"
      ],
      "metadata": {
        "id": "nP46hrEzCBDX"
      }
    },
    {
      "cell_type": "code",
      "source": [
        "# Test de la fonction forward sur un batch du trainset\n",
        "dataiter = iter(trainloader)\n",
        "images, labels = next(dataiter)  # Charger un lot d'images et d'étiquettes\n",
        "tensor_sortie = mlp(images)  # Passer le lot à travers le réseau\n",
        "print(tensor_sortie.shape)  # Afficher la forme de la sortie"
      ],
      "metadata": {
        "colab": {
          "base_uri": "https://localhost:8080/"
        },
        "id": "36bf98ZpNIN8",
        "outputId": "c1e02353-c35e-4af1-9c2c-922971d5a19b"
      },
      "execution_count": null,
      "outputs": [
        {
          "output_type": "stream",
          "name": "stdout",
          "text": [
            "torch.Size([32, 10])\n"
          ]
        }
      ]
    },
    {
      "cell_type": "markdown",
      "source": [
        "Le resultat est egalement conforme car le réseau doit traiter un batch de 32 images (comme spécifié par le batch_size de 32), la taille de sortie [32, 10] signifie que le modèle traite correctement les batches d'images et renvoie une prédiction pour chacune des 10 classes pour chaque image du batch. Ceci indique que le réseau est bien configuré."
      ],
      "metadata": {
        "id": "8V1QZOpjCORb"
      }
    },
    {
      "cell_type": "markdown",
      "source": [
        "# Nombre de paramètres du réseau"
      ],
      "metadata": {
        "id": "E4929ZBOCVMU"
      }
    },
    {
      "cell_type": "code",
      "source": [
        "#  Nombre de paramètres du réseau\n",
        "params = list(mlp.parameters())\n",
        "nb_params =0\n",
        "for k in range(len(params)):\n",
        "    nb_params += torch.prod(torch.tensor(params[k].size()))\n",
        "print(nb_params)"
      ],
      "metadata": {
        "colab": {
          "base_uri": "https://localhost:8080/"
        },
        "id": "t_AnyurhPqsX",
        "outputId": "3cbb27a4-66ef-4b5e-ffb7-455a0f536259"
      },
      "execution_count": null,
      "outputs": [
        {
          "output_type": "stream",
          "name": "stdout",
          "text": [
            "tensor(238510)\n"
          ]
        }
      ]
    },
    {
      "cell_type": "markdown",
      "source": [
        "Un modèle avec 238510 paramètres est relativement complexe pour un perceptron multicouches traitant des images de taille modeste (28x28 pixels). Cette complexité indique que le modèle est capable de performances élevées sur les tâches de classification d'images complexes.\n",
        "Le nombre élevé de paramètres entraîne des temps de calcul plus longs lors de l'entraînement\n",
        "Plus un modèle a de paramètres, plus il consomme de mémoire lors de l'entraînement et de l'inférence.\n",
        "\n"
      ],
      "metadata": {
        "id": "cDLA9A03Dekk"
      }
    },
    {
      "cell_type": "markdown",
      "metadata": {
        "id": "I8wiYKM6M9Bg"
      },
      "source": [
        "###Question 10 :\n",
        "Adapter les scripts des questions 5 et 7 pour entraîner le réseau `mlp` et évaluer sa performance.\n",
        "\n",
        "Comparer les performances des deux réseaux entraînés.\n",
        "\n"
      ]
    },
    {
      "cell_type": "markdown",
      "source": [
        "####Question 5*"
      ],
      "metadata": {
        "id": "ipRRbhPYxmS7"
      }
    },
    {
      "cell_type": "code",
      "source": [
        "import torch.optim as optim\n",
        "import time\n",
        "criterion = nn.CrossEntropyLoss()\n",
        "optimizer = optim.SGD(mlp.parameters(), lr=0.01, momentum=0.9)\n",
        "\n",
        "# Entraînement\n",
        "start_time = time.time()\n",
        "for epoch in range(10):  # Entraîner sur 10 epochs\n",
        "    running_loss = 0.0\n",
        "    for i, data in enumerate(trainloader, 0):\n",
        "        inputs, labels = data\n",
        "\n",
        "        optimizer.zero_grad()\n",
        "\n",
        "        outputs = mlp(inputs)\n",
        "        loss = criterion(outputs, labels)\n",
        "        loss.backward()\n",
        "        optimizer.step()\n",
        "\n",
        "        running_loss += loss.item()\n",
        "\n",
        "    # Affichage de la perte moyenne pour l'epoch\n",
        "    epoch_loss = running_loss / len(trainloader)\n",
        "    print(f'Epoch {epoch + 1}: Loss = {epoch_loss:.3f}')\n",
        "\n",
        "total_time = time.time() - start_time\n",
        "print(f'Entrainement achévé en {total_time:.2f} secondes')"
      ],
      "metadata": {
        "id": "Ib7p25pehVGl",
        "colab": {
          "base_uri": "https://localhost:8080/"
        },
        "outputId": "630ea78b-594c-408c-ceab-7f4747fb92f4"
      },
      "execution_count": null,
      "outputs": [
        {
          "output_type": "stream",
          "name": "stdout",
          "text": [
            "Epoch 1: Loss = 0.496\n",
            "Epoch 2: Loss = 0.379\n",
            "Epoch 3: Loss = 0.341\n",
            "Epoch 4: Loss = 0.316\n",
            "Epoch 5: Loss = 0.296\n",
            "Epoch 6: Loss = 0.284\n",
            "Epoch 7: Loss = 0.272\n",
            "Epoch 8: Loss = 0.259\n",
            "Epoch 9: Loss = 0.248\n",
            "Epoch 10: Loss = 0.239\n",
            "Entrainement achévé en 351.86 secondes\n"
          ]
        }
      ]
    },
    {
      "cell_type": "markdown",
      "source": [
        "Sans rentrer dans les détails , plus la perte est minime plus le modèle a été bien entraîner . Ici on remarque une dimunition de la perte sur les 10 periodes , ceci montre que le reseau apprend .\n",
        "\n",
        "La perte continue de diminuer à chaque époque sans augmenter, ceci montre que\n",
        "dans le reseau il n'y a pas de  sur-apprentissage ou d'instabilité."
      ],
      "metadata": {
        "id": "_XYMJiiEM6f1"
      }
    },
    {
      "cell_type": "markdown",
      "source": [
        "Sauvegarde"
      ],
      "metadata": {
        "id": "gKL8p5l8yxfv"
      }
    },
    {
      "cell_type": "code",
      "source": [
        "PATH = './FashionMNIST_mlp.pth'\n",
        "torch.save(mlp.state_dict(), PATH)"
      ],
      "metadata": {
        "id": "egiMzlwHVr-H"
      },
      "execution_count": null,
      "outputs": []
    },
    {
      "cell_type": "markdown",
      "source": [
        "Rechargement"
      ],
      "metadata": {
        "id": "iucsuJ1Hy1RP"
      }
    },
    {
      "cell_type": "code",
      "source": [
        "mlp = MLP()\n",
        "mlp.load_state_dict(torch.load(PATH))\n"
      ],
      "metadata": {
        "colab": {
          "base_uri": "https://localhost:8080/"
        },
        "id": "mcWwojiNVy81",
        "outputId": "eb6a95b2-a50f-48c2-abd1-437fe5e57359"
      },
      "execution_count": null,
      "outputs": [
        {
          "output_type": "execute_result",
          "data": {
            "text/plain": [
              "<All keys matched successfully>"
            ]
          },
          "metadata": {},
          "execution_count": 46
        }
      ]
    },
    {
      "cell_type": "markdown",
      "source": [
        "####Question 7*"
      ],
      "metadata": {
        "id": "W61rVZ4zzZcj"
      }
    },
    {
      "cell_type": "code",
      "source": [
        "import torch\n",
        "from sklearn.metrics import classification_report\n",
        "from sklearn.metrics import confusion_matrix, ConfusionMatrixDisplay\n",
        "\n",
        "# Accumuler toutes les étiquettes et les prédictions\n",
        "all_labels = torch.tensor([])\n",
        "all_predicted = torch.tensor([])\n",
        "\n",
        "# Désactiver le calcul du gradient pour accélérer les calculs et réduire la mémoire\n",
        "with torch.no_grad():\n",
        "    for data in testloader:\n",
        "        images, labels = data\n",
        "        outputs = mlp(images)  # Utiliser le réseau MLP au lieu de CNN\n",
        "        _, predicted = torch.max(outputs.data, 1)\n",
        "\n",
        "        # Concaténer les résultats actuels avec les précédents\n",
        "        all_labels = torch.cat((all_labels, labels.float()))  # Assurer le bon type de tenseur\n",
        "        all_predicted = torch.cat((all_predicted, predicted.float()))\n",
        "\n",
        "# Convertir les tenseurs en numpy arrays pour la compatibilité avec sklearn\n",
        "t_test = all_labels\n",
        "t_pred = all_predicted\n",
        "\n",
        "\n",
        "#Classification report\n",
        "print(classification_report(t_test,t_pred,target_names = classes))\n",
        "\n",
        "#Confusion matrix\n",
        "cm = confusion_matrix(t_test,t_pred)\n",
        "disp = ConfusionMatrixDisplay(confusion_matrix=cm,display_labels = classes)\n",
        "disp.plot()"
      ],
      "metadata": {
        "colab": {
          "base_uri": "https://localhost:8080/",
          "height": 761
        },
        "id": "yu_JG2UbSbVu",
        "outputId": "742bb9fe-ed77-4a72-839f-811fc73e4855"
      },
      "execution_count": null,
      "outputs": [
        {
          "output_type": "stream",
          "name": "stdout",
          "text": [
            "              precision    recall  f1-score   support\n",
            "\n",
            " T-shirt/top       0.84      0.82      0.83      1000\n",
            "     Trouser       0.98      0.98      0.98      1000\n",
            "    Pullover       0.83      0.79      0.81      1000\n",
            "       Dress       0.87      0.89      0.88      1000\n",
            "        Coat       0.80      0.82      0.81      1000\n",
            "      Sandal       0.95      0.96      0.95      1000\n",
            "       Shirt       0.71      0.72      0.72      1000\n",
            "     Sneaker       0.94      0.93      0.94      1000\n",
            "         Bag       0.98      0.96      0.97      1000\n",
            "  Ankle boot       0.94      0.97      0.95      1000\n",
            "\n",
            "    accuracy                           0.88     10000\n",
            "   macro avg       0.88      0.88      0.88     10000\n",
            "weighted avg       0.88      0.88      0.88     10000\n",
            "\n"
          ]
        },
        {
          "output_type": "execute_result",
          "data": {
            "text/plain": [
              "<sklearn.metrics._plot.confusion_matrix.ConfusionMatrixDisplay at 0x7a41c17d3550>"
            ]
          },
          "metadata": {},
          "execution_count": 13
        },
        {
          "output_type": "display_data",
          "data": {
            "text/plain": [
              "<Figure size 640x480 with 2 Axes>"
            ],
            "image/png": "[encoded data removed]"
          },
          "metadata": {}
        }
      ]
    },
    {
      "cell_type": "markdown",
      "source": [
        "### Le pLus important:\n",
        "Comme vu en TP , on s'interesse plus à la ligne (accuracy) notamment avec la colonne f1-score qui represente la precision globale du modèle est de 88%, ce qui est extrêmement élevé. Cela indique que le modèle a correctement classé  88% des exemples du testset.\n",
        "\n",
        "### Pour la matrice de confusion:\n",
        "Sur la diagonale, nous avons le nombre de prédictions correctes pour chaque classe et en dehors de la diagonale le nombre de predictions incorrectes.\n",
        "\n",
        "Les classes 8 et 9 sont prédites avec les plus fortes précisions et avec une faible confusion avec d'autres classes.\n",
        "\n",
        " La classe 2 Pullover a souvent été confondu avec la classe Coat (143 pullover ont été prédits comme Coat).\n",
        "\n",
        " La classe 6 Shirt a   souvent été confondu avec la classe T-shirt/top (171  Shirt ont été prédit comme T-shirt/top).\n",
        "\n",
        " Amelioration:\n",
        "\n",
        " En augmentant le taille du batch et le nombre de couches car avec plus de couches on peut capter des cas complexes.\n",
        "La taille du batch affectera efficacité de l'apprentissage et l'utilisation de la mémoire.\n",
        "\n",
        "On pourrait egalement modifier les paramètres comme le Taux d'apprentissage \"lr\" et le momentum dans le de trouver un meilleur minimum global durant l'entraînement et une stabilisation de la convergence.\n",
        "\n",
        "Comparaison:\n",
        "\n",
        "Les deux reseaux montrent des resultats de performance globaux simialires (89% et 88% de precision globale).\n",
        "\n",
        "Cependant on remarque une amélioration de la classification pour certaines classes comme T-shirt/top, Coat, et Ankle boot , tandis que d'autres classes telles que Pullover, Shirt, et Sneaker ont montré une baisse de la performance.\n",
        "Ceci peut etre dû au fait que le reseau mlp n'a pas de couches de convolutions et des max-poolings .\n",
        "\n",
        "\n",
        "\n"
      ],
      "metadata": {
        "id": "gFdDWwbHNcXu"
      }
    },
    {
      "cell_type": "code",
      "source": [
        "import pandas as pd\n",
        "from sklearn.metrics import classification_report\n",
        "\n",
        "# Génération du rapport de classification\n",
        "report = classification_report(all_labels, all_predicted, target_names=classes, output_dict=True)\n",
        "\n",
        "# Conversion du rapport en DataFrame et exportation en CSV\n",
        "report_df = pd.DataFrame(report).transpose()\n",
        "report_df.to_csv('classification_reports_Mlp.csv', index=True)\n",
        "print(\"Le rapport de classification a été exporté en classification_report.csv\")"
      ],
      "metadata": {
        "colab": {
          "base_uri": "https://localhost:8080/"
        },
        "id": "MTB7UroSy7vL",
        "outputId": "f62a473d-a257-45f3-9f31-19274d00102c"
      },
      "execution_count": null,
      "outputs": [
        {
          "output_type": "stream",
          "name": "stdout",
          "text": [
            "Le rapport de classification a été exporté en classification_report.csv\n"
          ]
        }
      ]
    },
    {
      "cell_type": "code",
      "source": [
        "from sklearn.metrics import confusion_matrix\n",
        "\n",
        "# Génération de la matrice de confusion\n",
        "cm = confusion_matrix(all_labels, all_predicted)\n",
        "\n",
        "# Conversion de la matrice de confusion en DataFrame\n",
        "cm_df = pd.DataFrame(cm, index=classes, columns=classes)\n",
        "\n",
        "# Exportation en CSV\n",
        "#cm_df.to_csv('confusion_matrix_Mlp.csv', index=True)\n",
        "#print(\"La matrice de confusion a été exportée en confusion_matrix.csv\")"
      ],
      "metadata": {
        "id": "LgD2D6jCzI-r"
      },
      "execution_count": null,
      "outputs": []
    },
    {
      "cell_type": "code",
      "source": [
        "# Assuming you have the classification reports for both models as dataframes\n",
        "#resnet_report = classification_report(all_labels, all_predicted, target_names=classes, output_dict=True)\n",
        "#resnet_report_df = pd.DataFrame(report).transpose()\n",
        "\n",
        "# Combine the classification reports\n",
        "report_df['Model'] = 'MLP'\n",
        "resnet_report_df['Model'] = 'CNNet'\n",
        "combined_report_df = pd.concat([report_df, resnet_report_df])\n",
        "\n",
        "# Export to CSV\n",
        "combined_report_df.to_csv('combined_classification_report.csv', index=True)\n",
        "\n",
        "# Similarly for confusion matrices\n",
        "cm_df = pd.DataFrame(cm, index=classes, columns=classes)\n",
        "cm_df['Model'] = 'MLP'\n",
        "resnet_cm_df = pd.DataFrame(resnet_cm, index=classes, columns=classes)\n",
        "resnet_cm_df['Model'] = 'CNNet'\n",
        "combined_cm_df = pd.concat([cm_df, resnet_cm_df])\n",
        "\n",
        "# Unpivot the combined confusion matrix for Power BI\n",
        "#combined_cm_df = combined_cm_df.melt(id_vars=[\"Model\", \"True Label\"], var_name=\"Predicted Label\", value_name=\"Count\")\n",
        "\n",
        "# Export to CSV\n",
        "combined_cm_df.to_csv('combined_confusion_matrix.csv', index=False)\n",
        "print(\"La matrice de confusion a été exportée en confusion_matrix.csv\")"
      ],
      "metadata": {
        "colab": {
          "base_uri": "https://localhost:8080/"
        },
        "id": "9vfa8Qz9OdnB",
        "outputId": "02c8d9d1-ec62-4757-f8f0-e300ea28bdde"
      },
      "execution_count": null,
      "outputs": [
        {
          "output_type": "stream",
          "name": "stdout",
          "text": [
            "La matrice de confusion a été exportée en confusion_matrix.csv\n"
          ]
        }
      ]
    },
    {
      "cell_type": "code",
      "source": [
        "mlp_cm_df = cm_df.reset_index().melt(id_vars=['index', 'Model'], var_name='Predicted Label', value_name='Count')\n",
        "mlp_cm_df = cm_df.rename(columns={'index': 'True Label'})\n",
        "\n",
        "resnet_cm_df = pd.DataFrame(resnet_cm, index=classes, columns=classes)\n",
        "resnet_cm_df['Model'] = 'CNNet'\n",
        "resnet_cm_df = resnet_cm_df.reset_index().melt(id_vars=['index', 'Model'], var_name='Predicted Label', value_name='Count')\n",
        "resnet_cm_df = resnet_cm_df.rename(columns={'index': 'True Label'})\n",
        "\n",
        "# Combine both DataFrames\n",
        "combined_cm_df = pd.concat([mlp_cm_df, resnet_cm_df])\n",
        "\n",
        "# Export to CSV\n",
        "combined_cm_df.to_csv('combined_confusion_matrix.csv', index=False)"
      ],
      "metadata": {
        "id": "zi97zLEPL7J8"
      },
      "execution_count": null,
      "outputs": []
    }
  ],
  "metadata": {
    "colab": {
      "provenance": []
    },
    "kernelspec": {
      "display_name": "Python 3",
      "language": "python",
      "name": "python3"
    },
    "language_info": {
      "codemirror_mode": {
        "name": "ipython",
        "version": 3
      },
      "file_extension": ".py",
      "mimetype": "text/x-python",
      "name": "python",
      "nbconvert_exporter": "python",
      "pygments_lexer": "ipython3",
      "version": "3.8.5"
    }
  },
  "nbformat": 4,
  "nbformat_minor": 0
}